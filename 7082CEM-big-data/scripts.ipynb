{
 "cells": [
  {
   "cell_type": "code",
   "execution_count": 2,
   "id": "3752a20f",
   "metadata": {},
   "outputs": [],
   "source": [
    "import os\n",
    "import pandas as pd\n",
    "import numpy as np\n",
    "import matplotlib.pyplot as plt\n",
    "import seaborn as sns\n",
    "# linear algebra\n",
    "import numpy as np \n",
    "# Visualizations\n",
    "import matplotlib.pyplot as plt\n",
    "from matplotlib import rcParams\n",
    "import seaborn as sns\n",
    "%matplotlib inline\n",
    "# Algorithms\n",
    "from sklearn import linear_model\n",
    "from sklearn.linear_model import LogisticRegression\n",
    "from sklearn.ensemble import RandomForestClassifier\n",
    "from sklearn.linear_model import Perceptron\n",
    "from sklearn.linear_model import SGDClassifier\n",
    "from sklearn.tree import DecisionTreeClassifier\n",
    "from sklearn.neighbors import KNeighborsClassifier\n",
    "from sklearn.svm import SVC, LinearSVC\n",
    "from sklearn.naive_bayes import GaussianNB"
   ]
  },
  {
   "cell_type": "code",
   "execution_count": 3,
   "id": "85ac6b31",
   "metadata": {},
   "outputs": [
    {
     "name": "stdout",
     "output_type": "stream",
     "text": [
      "./datasets\\IT_Salary_Survey_EU_2020.csv\n",
      "./datasets\\IT_Salary_Survey_EU_2019.csv\n",
      "./datasets\\IT_Salary_Survey_EU_2018.csv\n"
     ]
    }
   ],
   "source": [
    "ROOT = r\"./\"\n",
    "DATA_IN = os.path.join(ROOT, \"datasets\")\n",
    "data_2020 = os.path.join(DATA_IN, \"IT_Salary_Survey_EU_2020.csv\")\n",
    "data_2019 = os.path.join(DATA_IN, \"IT_Salary_Survey_EU_2019.csv\")\n",
    "data_2018 = os.path.join(DATA_IN, \"IT_Salary_Survey_EU_2018.csv\")\n",
    "\n",
    "LABEL_COL='>50K'\n",
    "\n",
    "print(data_2020)\n",
    "print(data_2019)\n",
    "print(data_2018)"
   ]
  },
  {
   "cell_type": "code",
   "execution_count": 4,
   "id": "4b2ee08f",
   "metadata": {},
   "outputs": [
    {
     "data": {
      "text/html": [
       "<div>\n",
       "<style scoped>\n",
       "    .dataframe tbody tr th:only-of-type {\n",
       "        vertical-align: middle;\n",
       "    }\n",
       "\n",
       "    .dataframe tbody tr th {\n",
       "        vertical-align: top;\n",
       "    }\n",
       "\n",
       "    .dataframe thead th {\n",
       "        text-align: right;\n",
       "    }\n",
       "</style>\n",
       "<table border=\"1\" class=\"dataframe\">\n",
       "  <thead>\n",
       "    <tr style=\"text-align: right;\">\n",
       "      <th></th>\n",
       "      <th>Timestamp</th>\n",
       "      <th>Age</th>\n",
       "      <th>Gender</th>\n",
       "      <th>City</th>\n",
       "      <th>Position</th>\n",
       "      <th>Total years of experience</th>\n",
       "      <th>Years of experience in Germany</th>\n",
       "      <th>Seniority level</th>\n",
       "      <th>Your main technology / programming language</th>\n",
       "      <th>Other technologies/programming languages you use often</th>\n",
       "      <th>...</th>\n",
       "      <th>Annual bonus+stocks one year ago. Only answer if staying in same country</th>\n",
       "      <th>Number of vacation days</th>\n",
       "      <th>Employment status</th>\n",
       "      <th>Сontract duration</th>\n",
       "      <th>Main language at work</th>\n",
       "      <th>Company size</th>\n",
       "      <th>Company type</th>\n",
       "      <th>Have you lost your job due to the coronavirus outbreak?</th>\n",
       "      <th>Have you been forced to have a shorter working week (Kurzarbeit)? If yes, how many hours per week</th>\n",
       "      <th>Have you received additional monetary support from your employer due to Work From Home? If yes, how much in 2020 in EUR</th>\n",
       "    </tr>\n",
       "  </thead>\n",
       "  <tbody>\n",
       "    <tr>\n",
       "      <th>0</th>\n",
       "      <td>24/11/2020 11:14:15</td>\n",
       "      <td>26.0</td>\n",
       "      <td>Male</td>\n",
       "      <td>Munich</td>\n",
       "      <td>Software Engineer</td>\n",
       "      <td>5</td>\n",
       "      <td>3</td>\n",
       "      <td>Senior</td>\n",
       "      <td>TypeScript</td>\n",
       "      <td>Kotlin, Javascript / Typescript</td>\n",
       "      <td>...</td>\n",
       "      <td>10000</td>\n",
       "      <td>30</td>\n",
       "      <td>Full-time employee</td>\n",
       "      <td>Unlimited contract</td>\n",
       "      <td>English</td>\n",
       "      <td>51-100</td>\n",
       "      <td>Product</td>\n",
       "      <td>No</td>\n",
       "      <td>NaN</td>\n",
       "      <td>NaN</td>\n",
       "    </tr>\n",
       "    <tr>\n",
       "      <th>1</th>\n",
       "      <td>24/11/2020 11:14:16</td>\n",
       "      <td>26.0</td>\n",
       "      <td>Male</td>\n",
       "      <td>Berlin</td>\n",
       "      <td>Backend Developer</td>\n",
       "      <td>7</td>\n",
       "      <td>4</td>\n",
       "      <td>Senior</td>\n",
       "      <td>Ruby</td>\n",
       "      <td>NaN</td>\n",
       "      <td>...</td>\n",
       "      <td>5000</td>\n",
       "      <td>28</td>\n",
       "      <td>Full-time employee</td>\n",
       "      <td>Unlimited contract</td>\n",
       "      <td>English</td>\n",
       "      <td>101-1000</td>\n",
       "      <td>Product</td>\n",
       "      <td>No</td>\n",
       "      <td>NaN</td>\n",
       "      <td>NaN</td>\n",
       "    </tr>\n",
       "    <tr>\n",
       "      <th>2</th>\n",
       "      <td>24/11/2020 11:14:21</td>\n",
       "      <td>29.0</td>\n",
       "      <td>Male</td>\n",
       "      <td>Berlin</td>\n",
       "      <td>Software Engineer</td>\n",
       "      <td>12</td>\n",
       "      <td>6</td>\n",
       "      <td>Lead</td>\n",
       "      <td>Javascript / Typescript</td>\n",
       "      <td>Javascript / Typescript, Docker</td>\n",
       "      <td>...</td>\n",
       "      <td>100000</td>\n",
       "      <td>30</td>\n",
       "      <td>Self-employed (freelancer)</td>\n",
       "      <td>Temporary contract</td>\n",
       "      <td>English</td>\n",
       "      <td>101-1000</td>\n",
       "      <td>Product</td>\n",
       "      <td>Yes</td>\n",
       "      <td>NaN</td>\n",
       "      <td>NaN</td>\n",
       "    </tr>\n",
       "    <tr>\n",
       "      <th>3</th>\n",
       "      <td>24/11/2020 11:15:24</td>\n",
       "      <td>28.0</td>\n",
       "      <td>Male</td>\n",
       "      <td>Berlin</td>\n",
       "      <td>Frontend Developer</td>\n",
       "      <td>4</td>\n",
       "      <td>1</td>\n",
       "      <td>Junior</td>\n",
       "      <td>Javascript</td>\n",
       "      <td>NaN</td>\n",
       "      <td>...</td>\n",
       "      <td>NaN</td>\n",
       "      <td>24</td>\n",
       "      <td>Full-time employee</td>\n",
       "      <td>Unlimited contract</td>\n",
       "      <td>English</td>\n",
       "      <td>51-100</td>\n",
       "      <td>Startup</td>\n",
       "      <td>No</td>\n",
       "      <td>NaN</td>\n",
       "      <td>NaN</td>\n",
       "    </tr>\n",
       "    <tr>\n",
       "      <th>4</th>\n",
       "      <td>24/11/2020 11:15:46</td>\n",
       "      <td>37.0</td>\n",
       "      <td>Male</td>\n",
       "      <td>Berlin</td>\n",
       "      <td>Backend Developer</td>\n",
       "      <td>17</td>\n",
       "      <td>6</td>\n",
       "      <td>Senior</td>\n",
       "      <td>C# .NET</td>\n",
       "      <td>.NET, SQL, AWS, Docker</td>\n",
       "      <td>...</td>\n",
       "      <td>NaN</td>\n",
       "      <td>29</td>\n",
       "      <td>Full-time employee</td>\n",
       "      <td>Unlimited contract</td>\n",
       "      <td>English</td>\n",
       "      <td>101-1000</td>\n",
       "      <td>Product</td>\n",
       "      <td>No</td>\n",
       "      <td>NaN</td>\n",
       "      <td>NaN</td>\n",
       "    </tr>\n",
       "  </tbody>\n",
       "</table>\n",
       "<p>5 rows × 23 columns</p>\n",
       "</div>"
      ],
      "text/plain": [
       "             Timestamp   Age Gender    City           Position   \\\n",
       "0  24/11/2020 11:14:15  26.0   Male  Munich   Software Engineer   \n",
       "1  24/11/2020 11:14:16  26.0   Male  Berlin   Backend Developer   \n",
       "2  24/11/2020 11:14:21  29.0   Male  Berlin   Software Engineer   \n",
       "3  24/11/2020 11:15:24  28.0   Male  Berlin  Frontend Developer   \n",
       "4  24/11/2020 11:15:46  37.0   Male  Berlin   Backend Developer   \n",
       "\n",
       "  Total years of experience Years of experience in Germany Seniority level  \\\n",
       "0                         5                              3          Senior   \n",
       "1                         7                              4          Senior   \n",
       "2                        12                              6            Lead   \n",
       "3                         4                              1          Junior   \n",
       "4                        17                              6          Senior   \n",
       "\n",
       "  Your main technology / programming language  \\\n",
       "0                                  TypeScript   \n",
       "1                                        Ruby   \n",
       "2                     Javascript / Typescript   \n",
       "3                                  Javascript   \n",
       "4                                     C# .NET   \n",
       "\n",
       "  Other technologies/programming languages you use often  ...  \\\n",
       "0                    Kotlin, Javascript / Typescript      ...   \n",
       "1                                                NaN      ...   \n",
       "2                    Javascript / Typescript, Docker      ...   \n",
       "3                                                NaN      ...   \n",
       "4                             .NET, SQL, AWS, Docker      ...   \n",
       "\n",
       "   Annual bonus+stocks one year ago. Only answer if staying in same country  \\\n",
       "0                                              10000                          \n",
       "1                                               5000                          \n",
       "2                                             100000                          \n",
       "3                                                NaN                          \n",
       "4                                                NaN                          \n",
       "\n",
       "  Number of vacation days           Employment status   Сontract duration  \\\n",
       "0                      30          Full-time employee  Unlimited contract   \n",
       "1                      28          Full-time employee  Unlimited contract   \n",
       "2                      30  Self-employed (freelancer)  Temporary contract   \n",
       "3                      24          Full-time employee  Unlimited contract   \n",
       "4                      29          Full-time employee  Unlimited contract   \n",
       "\n",
       "  Main language at work Company size Company type  \\\n",
       "0               English       51-100      Product   \n",
       "1               English     101-1000      Product   \n",
       "2               English     101-1000      Product   \n",
       "3               English       51-100      Startup   \n",
       "4               English     101-1000      Product   \n",
       "\n",
       "  Have you lost your job due to the coronavirus outbreak?  \\\n",
       "0                                                 No        \n",
       "1                                                 No        \n",
       "2                                                Yes        \n",
       "3                                                 No        \n",
       "4                                                 No        \n",
       "\n",
       "  Have you been forced to have a shorter working week (Kurzarbeit)? If yes, how many hours per week  \\\n",
       "0                                                NaN                                                  \n",
       "1                                                NaN                                                  \n",
       "2                                                NaN                                                  \n",
       "3                                                NaN                                                  \n",
       "4                                                NaN                                                  \n",
       "\n",
       "  Have you received additional monetary support from your employer due to Work From Home? If yes, how much in 2020 in EUR  \n",
       "0                                                NaN                                                                       \n",
       "1                                                NaN                                                                       \n",
       "2                                                NaN                                                                       \n",
       "3                                                NaN                                                                       \n",
       "4                                                NaN                                                                       \n",
       "\n",
       "[5 rows x 23 columns]"
      ]
     },
     "execution_count": 4,
     "metadata": {},
     "output_type": "execute_result"
    }
   ],
   "source": [
    "df_2020 = pd.read_csv(data_2020)\n",
    "df_2019 = pd.read_csv(data_2019)\n",
    "df_2018 = pd.read_csv(data_2018)\n",
    "df_2020.head()"
   ]
  },
  {
   "cell_type": "code",
   "execution_count": 3,
   "id": "d96c1a19",
   "metadata": {},
   "outputs": [
    {
     "name": "stdout",
     "output_type": "stream",
     "text": [
      "Number of rows: 1253\n"
     ]
    }
   ],
   "source": [
    "row_count = df_2020.shape[0]\n",
    "print(\"Number of rows:\", row_count)"
   ]
  },
  {
   "cell_type": "code",
   "execution_count": 4,
   "id": "886a2f9c",
   "metadata": {},
   "outputs": [
    {
     "data": {
      "text/html": [
       "<div>\n",
       "<style scoped>\n",
       "    .dataframe tbody tr th:only-of-type {\n",
       "        vertical-align: middle;\n",
       "    }\n",
       "\n",
       "    .dataframe tbody tr th {\n",
       "        vertical-align: top;\n",
       "    }\n",
       "\n",
       "    .dataframe thead th {\n",
       "        text-align: right;\n",
       "    }\n",
       "</style>\n",
       "<table border=\"1\" class=\"dataframe\">\n",
       "  <thead>\n",
       "    <tr style=\"text-align: right;\">\n",
       "      <th></th>\n",
       "      <th>Timestamp</th>\n",
       "      <th>Age</th>\n",
       "      <th>Gender</th>\n",
       "      <th>City</th>\n",
       "      <th>Position</th>\n",
       "      <th>Total years of experience</th>\n",
       "      <th>Years of experience in Germany</th>\n",
       "      <th>Seniority level</th>\n",
       "      <th>Your main technology / programming language</th>\n",
       "      <th>Other technologies/programming languages you use often</th>\n",
       "      <th>...</th>\n",
       "      <th>Annual bonus+stocks one year ago. Only answer if staying in same country</th>\n",
       "      <th>Number of vacation days</th>\n",
       "      <th>Employment status</th>\n",
       "      <th>Сontract duration</th>\n",
       "      <th>Main language at work</th>\n",
       "      <th>Company size</th>\n",
       "      <th>Company type</th>\n",
       "      <th>Have you lost your job due to the coronavirus outbreak?</th>\n",
       "      <th>Have you been forced to have a shorter working week (Kurzarbeit)? If yes, how many hours per week</th>\n",
       "      <th>Have you received additional monetary support from your employer due to Work From Home? If yes, how much in 2020 in EUR</th>\n",
       "    </tr>\n",
       "  </thead>\n",
       "  <tbody>\n",
       "    <tr>\n",
       "      <th>1248</th>\n",
       "      <td>18/01/2021 15:05:50</td>\n",
       "      <td>31.0</td>\n",
       "      <td>Male</td>\n",
       "      <td>Berlin</td>\n",
       "      <td>Backend Developer</td>\n",
       "      <td>9</td>\n",
       "      <td>5</td>\n",
       "      <td>Senior</td>\n",
       "      <td>Java</td>\n",
       "      <td>Python, Javascript / Typescript, Java / Scala,...</td>\n",
       "      <td>...</td>\n",
       "      <td>72000</td>\n",
       "      <td>26</td>\n",
       "      <td>Full-time employee</td>\n",
       "      <td>Unlimited contract</td>\n",
       "      <td>English</td>\n",
       "      <td>51-100</td>\n",
       "      <td>Product</td>\n",
       "      <td>Yes</td>\n",
       "      <td>NaN</td>\n",
       "      <td>NaN</td>\n",
       "    </tr>\n",
       "    <tr>\n",
       "      <th>1249</th>\n",
       "      <td>18/01/2021 17:46:02</td>\n",
       "      <td>33.0</td>\n",
       "      <td>Male</td>\n",
       "      <td>Berlin</td>\n",
       "      <td>Researcher/ Consumer Insights Analyst</td>\n",
       "      <td>10</td>\n",
       "      <td>1.5</td>\n",
       "      <td>Senior</td>\n",
       "      <td>consumer analysis</td>\n",
       "      <td>NaN</td>\n",
       "      <td>...</td>\n",
       "      <td>2500</td>\n",
       "      <td>unlimited</td>\n",
       "      <td>Full-time employee</td>\n",
       "      <td>Unlimited contract</td>\n",
       "      <td>English</td>\n",
       "      <td>1000+</td>\n",
       "      <td>Product</td>\n",
       "      <td>No</td>\n",
       "      <td>NaN</td>\n",
       "      <td>0</td>\n",
       "    </tr>\n",
       "    <tr>\n",
       "      <th>1250</th>\n",
       "      <td>18/01/2021 23:20:35</td>\n",
       "      <td>39.0</td>\n",
       "      <td>Male</td>\n",
       "      <td>Munich</td>\n",
       "      <td>IT Operations Manager</td>\n",
       "      <td>15</td>\n",
       "      <td>2</td>\n",
       "      <td>Lead</td>\n",
       "      <td>PHP</td>\n",
       "      <td>Python, C/C++, Javascript / Typescript, Java /...</td>\n",
       "      <td>...</td>\n",
       "      <td>NaN</td>\n",
       "      <td>28</td>\n",
       "      <td>Full-time employee</td>\n",
       "      <td>Unlimited contract</td>\n",
       "      <td>English</td>\n",
       "      <td>101-1000</td>\n",
       "      <td>eCommerce</td>\n",
       "      <td>No</td>\n",
       "      <td>NaN</td>\n",
       "      <td>NaN</td>\n",
       "    </tr>\n",
       "    <tr>\n",
       "      <th>1251</th>\n",
       "      <td>19/01/2021 10:17:58</td>\n",
       "      <td>26.0</td>\n",
       "      <td>Male</td>\n",
       "      <td>Saarbrücken</td>\n",
       "      <td>Frontend Developer</td>\n",
       "      <td>7</td>\n",
       "      <td>7</td>\n",
       "      <td>Middle</td>\n",
       "      <td>JavaScript</td>\n",
       "      <td>Javascript / Typescript, Docker, HTML, CSS; Ad...</td>\n",
       "      <td>...</td>\n",
       "      <td>36400</td>\n",
       "      <td>27</td>\n",
       "      <td>Full-time employee</td>\n",
       "      <td>Unlimited contract</td>\n",
       "      <td>German</td>\n",
       "      <td>101-1000</td>\n",
       "      <td>Product</td>\n",
       "      <td>No</td>\n",
       "      <td>NaN</td>\n",
       "      <td>0</td>\n",
       "    </tr>\n",
       "    <tr>\n",
       "      <th>1252</th>\n",
       "      <td>19/01/2021 12:01:11</td>\n",
       "      <td>26.0</td>\n",
       "      <td>Male</td>\n",
       "      <td>Berlin</td>\n",
       "      <td>DevOps</td>\n",
       "      <td>2</td>\n",
       "      <td>2</td>\n",
       "      <td>Middle</td>\n",
       "      <td>yaml</td>\n",
       "      <td>Python, AWS, Kubernetes, Docker, terraform, an...</td>\n",
       "      <td>...</td>\n",
       "      <td>0</td>\n",
       "      <td>30</td>\n",
       "      <td>Full-time employee</td>\n",
       "      <td>Unlimited contract</td>\n",
       "      <td>English</td>\n",
       "      <td>51-100</td>\n",
       "      <td>Startup</td>\n",
       "      <td>No</td>\n",
       "      <td>30.0</td>\n",
       "      <td>600</td>\n",
       "    </tr>\n",
       "  </tbody>\n",
       "</table>\n",
       "<p>5 rows × 23 columns</p>\n",
       "</div>"
      ],
      "text/plain": [
       "                Timestamp   Age Gender         City  \\\n",
       "1248  18/01/2021 15:05:50  31.0   Male       Berlin   \n",
       "1249  18/01/2021 17:46:02  33.0   Male       Berlin   \n",
       "1250  18/01/2021 23:20:35  39.0   Male       Munich   \n",
       "1251  19/01/2021 10:17:58  26.0   Male  Saarbrücken   \n",
       "1252  19/01/2021 12:01:11  26.0   Male       Berlin   \n",
       "\n",
       "                                   Position  Total years of experience  \\\n",
       "1248                       Backend Developer                         9   \n",
       "1249  Researcher/ Consumer Insights Analyst                         10   \n",
       "1250                   IT Operations Manager                        15   \n",
       "1251                      Frontend Developer                         7   \n",
       "1252                                  DevOps                         2   \n",
       "\n",
       "     Years of experience in Germany Seniority level  \\\n",
       "1248                              5          Senior   \n",
       "1249                            1.5          Senior   \n",
       "1250                              2            Lead   \n",
       "1251                              7          Middle   \n",
       "1252                              2          Middle   \n",
       "\n",
       "     Your main technology / programming language  \\\n",
       "1248                                        Java   \n",
       "1249                           consumer analysis   \n",
       "1250                                         PHP   \n",
       "1251                                  JavaScript   \n",
       "1252                                        yaml   \n",
       "\n",
       "     Other technologies/programming languages you use often  ...  \\\n",
       "1248  Python, Javascript / Typescript, Java / Scala,...      ...   \n",
       "1249                                                NaN      ...   \n",
       "1250  Python, C/C++, Javascript / Typescript, Java /...      ...   \n",
       "1251  Javascript / Typescript, Docker, HTML, CSS; Ad...      ...   \n",
       "1252  Python, AWS, Kubernetes, Docker, terraform, an...      ...   \n",
       "\n",
       "      Annual bonus+stocks one year ago. Only answer if staying in same country  \\\n",
       "1248                                              72000                          \n",
       "1249                                               2500                          \n",
       "1250                                                NaN                          \n",
       "1251                                              36400                          \n",
       "1252                                                  0                          \n",
       "\n",
       "     Number of vacation days   Employment status   Сontract duration  \\\n",
       "1248                      26  Full-time employee  Unlimited contract   \n",
       "1249              unlimited   Full-time employee  Unlimited contract   \n",
       "1250                      28  Full-time employee  Unlimited contract   \n",
       "1251                      27  Full-time employee  Unlimited contract   \n",
       "1252                      30  Full-time employee  Unlimited contract   \n",
       "\n",
       "     Main language at work Company size Company type  \\\n",
       "1248               English       51-100      Product   \n",
       "1249               English        1000+      Product   \n",
       "1250               English     101-1000    eCommerce   \n",
       "1251                German     101-1000      Product   \n",
       "1252               English       51-100      Startup   \n",
       "\n",
       "     Have you lost your job due to the coronavirus outbreak?  \\\n",
       "1248                                                Yes        \n",
       "1249                                                 No        \n",
       "1250                                                 No        \n",
       "1251                                                 No        \n",
       "1252                                                 No        \n",
       "\n",
       "     Have you been forced to have a shorter working week (Kurzarbeit)? If yes, how many hours per week  \\\n",
       "1248                                                NaN                                                  \n",
       "1249                                                NaN                                                  \n",
       "1250                                                NaN                                                  \n",
       "1251                                                NaN                                                  \n",
       "1252                                               30.0                                                  \n",
       "\n",
       "     Have you received additional monetary support from your employer due to Work From Home? If yes, how much in 2020 in EUR  \n",
       "1248                                                NaN                                                                       \n",
       "1249                                                  0                                                                       \n",
       "1250                                                NaN                                                                       \n",
       "1251                                                  0                                                                       \n",
       "1252                                                600                                                                       \n",
       "\n",
       "[5 rows x 23 columns]"
      ]
     },
     "execution_count": 4,
     "metadata": {},
     "output_type": "execute_result"
    }
   ],
   "source": [
    "df_2020.tail(5)"
   ]
  },
  {
   "cell_type": "code",
   "execution_count": 5,
   "id": "bcf5bce8",
   "metadata": {},
   "outputs": [
    {
     "data": {
      "text/plain": [
       "(1253, 23)"
      ]
     },
     "execution_count": 5,
     "metadata": {},
     "output_type": "execute_result"
    }
   ],
   "source": [
    "df = df_2020.copy()\n",
    "df.shape"
   ]
  },
  {
   "cell_type": "code",
   "execution_count": 6,
   "id": "75825d48",
   "metadata": {},
   "outputs": [
    {
     "name": "stdout",
     "output_type": "stream",
     "text": [
      "<class 'pandas.core.frame.DataFrame'>\n",
      "RangeIndex: 1253 entries, 0 to 1252\n",
      "Data columns (total 23 columns):\n",
      " #   Column                                                                                                                   Non-Null Count  Dtype  \n",
      "---  ------                                                                                                                   --------------  -----  \n",
      " 0   Timestamp                                                                                                                1253 non-null   object \n",
      " 1   Age                                                                                                                      1226 non-null   float64\n",
      " 2   Gender                                                                                                                   1243 non-null   object \n",
      " 3   City                                                                                                                     1253 non-null   object \n",
      " 4   Position                                                                                                                 1247 non-null   object \n",
      " 5   Total years of experience                                                                                                1237 non-null   object \n",
      " 6   Years of experience in Germany                                                                                           1221 non-null   object \n",
      " 7   Seniority level                                                                                                          1241 non-null   object \n",
      " 8   Your main technology / programming language                                                                              1126 non-null   object \n",
      " 9   Other technologies/programming languages you use often                                                                   1096 non-null   object \n",
      " 10  Yearly brutto salary (without bonus and stocks) in EUR                                                                   1253 non-null   float64\n",
      " 11  Yearly bonus + stocks in EUR                                                                                             829 non-null    object \n",
      " 12  Annual brutto salary (without bonus and stocks) one year ago. Only answer if staying in the same country                 885 non-null    float64\n",
      " 13  Annual bonus+stocks one year ago. Only answer if staying in same country                                                 614 non-null    object \n",
      " 14  Number of vacation days                                                                                                  1185 non-null   object \n",
      " 15  Employment status                                                                                                        1236 non-null   object \n",
      " 16  Сontract duration                                                                                                        1224 non-null   object \n",
      " 17  Main language at work                                                                                                    1237 non-null   object \n",
      " 18  Company size                                                                                                             1235 non-null   object \n",
      " 19  Company type                                                                                                             1228 non-null   object \n",
      " 20  Have you lost your job due to the coronavirus outbreak?                                                                  1233 non-null   object \n",
      " 21  Have you been forced to have a shorter working week (Kurzarbeit)? If yes, how many hours per week                        373 non-null    float64\n",
      " 22  Have you received additional monetary support from your employer due to Work From Home? If yes, how much in 2020 in EUR  462 non-null    object \n",
      "dtypes: float64(4), object(19)\n",
      "memory usage: 225.3+ KB\n"
     ]
    }
   ],
   "source": [
    "df.info()"
   ]
  },
  {
   "cell_type": "code",
   "execution_count": 7,
   "id": "2a9e8c00",
   "metadata": {},
   "outputs": [
    {
     "data": {
      "text/plain": [
       "Index(['Timestamp', 'Age', 'Gender', 'City', 'Position ',\n",
       "       'Total years of experience', 'Years of experience in Germany',\n",
       "       'Seniority level', 'Your main technology / programming language',\n",
       "       'Other technologies/programming languages you use often',\n",
       "       'Yearly brutto salary (without bonus and stocks) in EUR',\n",
       "       'Yearly bonus + stocks in EUR',\n",
       "       'Annual brutto salary (without bonus and stocks) one year ago. Only answer if staying in the same country',\n",
       "       'Annual bonus+stocks one year ago. Only answer if staying in same country',\n",
       "       'Number of vacation days', 'Employment status', 'Сontract duration',\n",
       "       'Main language at work', 'Company size', 'Company type',\n",
       "       'Have you lost your job due to the coronavirus outbreak?',\n",
       "       'Have you been forced to have a shorter working week (Kurzarbeit)? If yes, how many hours per week',\n",
       "       'Have you received additional monetary support from your employer due to Work From Home? If yes, how much in 2020 in EUR'],\n",
       "      dtype='object')"
      ]
     },
     "execution_count": 7,
     "metadata": {},
     "output_type": "execute_result"
    }
   ],
   "source": [
    "df.columns"
   ]
  },
  {
   "cell_type": "code",
   "execution_count": 8,
   "id": "c1de9c0b",
   "metadata": {},
   "outputs": [],
   "source": [
    "questions_columns_schema = {\n",
    "    'Timestamp':'Timestamp',\n",
    "    'Age':'Age',\n",
    "    'Gender':'Gender',\n",
    "    'City':'City',\n",
    "    'Position':'Position',\n",
    "    'Total years of experience':'Experience_Y',\n",
    "    'Years of experience in Germany':'Experience_Germany_Y',\n",
    "    'Seniority level':'Seniority',\n",
    "    'Your main technology / programming language':'Primary_Technology',\n",
    "    'Other technologies/programming languages you use often':'Secondary_Technologies',\n",
    "    'Yearly brutto salary (without bonus and stocks) in EUR':'Bruto_Salary',\n",
    "    'Yearly bonus + stocks in EUR':'Bonus',\n",
    "    'Annual brutto salary (without bonus and stocks) one year ago. Only answer if staying in the same country':'Bruto_Salary_Last_Year',\n",
    "    'Annual bonus+stocks one year ago. Only answer if staying in same country':'Bonus_Last_Year',\n",
    "    'Number of vacation days':'Vacation',\n",
    "    'Employment status':'Employment_Status',\n",
    "    'Сontract duration':'Contract_Duration',\n",
    "    'Main language at work':'Language',\n",
    "    'Company size':'Company_Size',\n",
    "    'Company type':'Company_Type',\n",
    "    'Have you lost your job due to the coronavirus outbreak?':'Lost_Job',\n",
    "    'Have you been forced to have a shorter working week (Kurzarbeit)? If yes, how many hours per week':'Shorter_Week',\n",
    "    'Have you received additional monetary support from your employer due to Work From Home? If yes, how much in 2020 in EUR':'WFH_Allowance'\n",
    "}"
   ]
  },
  {
   "cell_type": "code",
   "execution_count": 9,
   "id": "348e578f",
   "metadata": {},
   "outputs": [],
   "source": [
    "df.rename(columns = questions_columns_schema, inplace = True)"
   ]
  },
  {
   "cell_type": "code",
   "execution_count": 10,
   "id": "be9fe550",
   "metadata": {},
   "outputs": [
    {
     "data": {
      "text/html": [
       "<div>\n",
       "<style scoped>\n",
       "    .dataframe tbody tr th:only-of-type {\n",
       "        vertical-align: middle;\n",
       "    }\n",
       "\n",
       "    .dataframe tbody tr th {\n",
       "        vertical-align: top;\n",
       "    }\n",
       "\n",
       "    .dataframe thead th {\n",
       "        text-align: right;\n",
       "    }\n",
       "</style>\n",
       "<table border=\"1\" class=\"dataframe\">\n",
       "  <thead>\n",
       "    <tr style=\"text-align: right;\">\n",
       "      <th></th>\n",
       "      <th>Timestamp</th>\n",
       "      <th>Age</th>\n",
       "      <th>Gender</th>\n",
       "      <th>City</th>\n",
       "      <th>Position</th>\n",
       "      <th>Experience_Y</th>\n",
       "      <th>Experience_Germany_Y</th>\n",
       "      <th>Seniority</th>\n",
       "      <th>Primary_Technology</th>\n",
       "      <th>Secondary_Technologies</th>\n",
       "      <th>...</th>\n",
       "      <th>Bonus_Last_Year</th>\n",
       "      <th>Vacation</th>\n",
       "      <th>Employment_Status</th>\n",
       "      <th>Contract_Duration</th>\n",
       "      <th>Language</th>\n",
       "      <th>Company_Size</th>\n",
       "      <th>Company_Type</th>\n",
       "      <th>Lost_Job</th>\n",
       "      <th>Shorter_Week</th>\n",
       "      <th>WFH_Allowance</th>\n",
       "    </tr>\n",
       "  </thead>\n",
       "  <tbody>\n",
       "    <tr>\n",
       "      <th>0</th>\n",
       "      <td>24/11/2020 11:14:15</td>\n",
       "      <td>26.0</td>\n",
       "      <td>Male</td>\n",
       "      <td>Munich</td>\n",
       "      <td>Software Engineer</td>\n",
       "      <td>5</td>\n",
       "      <td>3</td>\n",
       "      <td>Senior</td>\n",
       "      <td>TypeScript</td>\n",
       "      <td>Kotlin, Javascript / Typescript</td>\n",
       "      <td>...</td>\n",
       "      <td>10000</td>\n",
       "      <td>30</td>\n",
       "      <td>Full-time employee</td>\n",
       "      <td>Unlimited contract</td>\n",
       "      <td>English</td>\n",
       "      <td>51-100</td>\n",
       "      <td>Product</td>\n",
       "      <td>No</td>\n",
       "      <td>NaN</td>\n",
       "      <td>NaN</td>\n",
       "    </tr>\n",
       "  </tbody>\n",
       "</table>\n",
       "<p>1 rows × 23 columns</p>\n",
       "</div>"
      ],
      "text/plain": [
       "             Timestamp   Age Gender    City          Position  Experience_Y  \\\n",
       "0  24/11/2020 11:14:15  26.0   Male  Munich  Software Engineer            5   \n",
       "\n",
       "  Experience_Germany_Y Seniority Primary_Technology  \\\n",
       "0                    3    Senior         TypeScript   \n",
       "\n",
       "            Secondary_Technologies  ...  Bonus_Last_Year Vacation  \\\n",
       "0  Kotlin, Javascript / Typescript  ...            10000       30   \n",
       "\n",
       "    Employment_Status   Contract_Duration Language Company_Size Company_Type  \\\n",
       "0  Full-time employee  Unlimited contract  English       51-100      Product   \n",
       "\n",
       "  Lost_Job Shorter_Week WFH_Allowance  \n",
       "0       No          NaN           NaN  \n",
       "\n",
       "[1 rows x 23 columns]"
      ]
     },
     "execution_count": 10,
     "metadata": {},
     "output_type": "execute_result"
    }
   ],
   "source": [
    "df.head(1)"
   ]
  },
  {
   "cell_type": "code",
   "execution_count": 11,
   "id": "62600d6d",
   "metadata": {},
   "outputs": [
    {
     "name": "stdout",
     "output_type": "stream",
     "text": [
      "Timestamp 1248\n",
      "Age 41\n",
      "Gender 4\n",
      "City 119\n",
      "Position  149\n",
      "Experience_Y 49\n",
      "Experience_Germany_Y 54\n",
      "Seniority 25\n",
      "Primary_Technology 257\n",
      "Secondary_Technologies 563\n",
      "Bruto_Salary 201\n",
      "Bonus 169\n",
      "Bruto_Salary_Last_Year 148\n",
      "Bonus_Last_Year 132\n",
      "Vacation 46\n",
      "Employment_Status 12\n",
      "Contract_Duration 4\n",
      "Language 15\n",
      "Company_Size 6\n",
      "Company_Type 64\n",
      "Lost_Job 11\n",
      "Shorter_Week 24\n",
      "WFH_Allowance 60\n"
     ]
    }
   ],
   "source": [
    "for column in df.columns:\n",
    "    print(column, len(df[column].unique()))"
   ]
  },
  {
   "cell_type": "code",
   "execution_count": 12,
   "id": "96480b4b",
   "metadata": {},
   "outputs": [
    {
     "data": {
      "text/plain": [
       "Timestamp                   0\n",
       "Age                        27\n",
       "Gender                     10\n",
       "City                        0\n",
       "Position                    6\n",
       "Experience_Y               16\n",
       "Experience_Germany_Y       32\n",
       "Seniority                  12\n",
       "Primary_Technology        127\n",
       "Secondary_Technologies    157\n",
       "Bruto_Salary                0\n",
       "Bonus                     424\n",
       "Bruto_Salary_Last_Year    368\n",
       "Bonus_Last_Year           639\n",
       "Vacation                   68\n",
       "Employment_Status          17\n",
       "Contract_Duration          29\n",
       "Language                   16\n",
       "Company_Size               18\n",
       "Company_Type               25\n",
       "Lost_Job                   20\n",
       "Shorter_Week              880\n",
       "WFH_Allowance             791\n",
       "dtype: int64"
      ]
     },
     "execution_count": 12,
     "metadata": {},
     "output_type": "execute_result"
    }
   ],
   "source": [
    "df.isna().sum()"
   ]
  },
  {
   "cell_type": "code",
   "execution_count": 13,
   "id": "8f8097f7",
   "metadata": {},
   "outputs": [
    {
     "data": {
      "text/html": [
       "<div>\n",
       "<style scoped>\n",
       "    .dataframe tbody tr th:only-of-type {\n",
       "        vertical-align: middle;\n",
       "    }\n",
       "\n",
       "    .dataframe tbody tr th {\n",
       "        vertical-align: top;\n",
       "    }\n",
       "\n",
       "    .dataframe thead th {\n",
       "        text-align: right;\n",
       "    }\n",
       "</style>\n",
       "<table border=\"1\" class=\"dataframe\">\n",
       "  <thead>\n",
       "    <tr style=\"text-align: right;\">\n",
       "      <th></th>\n",
       "      <th>Age</th>\n",
       "      <th>Bruto_Salary</th>\n",
       "      <th>Bruto_Salary_Last_Year</th>\n",
       "      <th>Shorter_Week</th>\n",
       "    </tr>\n",
       "  </thead>\n",
       "  <tbody>\n",
       "    <tr>\n",
       "      <th>count</th>\n",
       "      <td>1226.000000</td>\n",
       "      <td>1.253000e+03</td>\n",
       "      <td>8.850000e+02</td>\n",
       "      <td>373.000000</td>\n",
       "    </tr>\n",
       "    <tr>\n",
       "      <th>mean</th>\n",
       "      <td>32.509788</td>\n",
       "      <td>8.027904e+07</td>\n",
       "      <td>6.322459e+05</td>\n",
       "      <td>12.967828</td>\n",
       "    </tr>\n",
       "    <tr>\n",
       "      <th>std</th>\n",
       "      <td>5.663804</td>\n",
       "      <td>2.825061e+09</td>\n",
       "      <td>1.680508e+07</td>\n",
       "      <td>15.275174</td>\n",
       "    </tr>\n",
       "    <tr>\n",
       "      <th>min</th>\n",
       "      <td>20.000000</td>\n",
       "      <td>1.000100e+04</td>\n",
       "      <td>1.100000e+04</td>\n",
       "      <td>0.000000</td>\n",
       "    </tr>\n",
       "    <tr>\n",
       "      <th>25%</th>\n",
       "      <td>29.000000</td>\n",
       "      <td>5.880000e+04</td>\n",
       "      <td>5.500000e+04</td>\n",
       "      <td>0.000000</td>\n",
       "    </tr>\n",
       "    <tr>\n",
       "      <th>50%</th>\n",
       "      <td>32.000000</td>\n",
       "      <td>7.000000e+04</td>\n",
       "      <td>6.500000e+04</td>\n",
       "      <td>0.000000</td>\n",
       "    </tr>\n",
       "    <tr>\n",
       "      <th>75%</th>\n",
       "      <td>35.000000</td>\n",
       "      <td>8.000000e+04</td>\n",
       "      <td>7.500000e+04</td>\n",
       "      <td>30.000000</td>\n",
       "    </tr>\n",
       "    <tr>\n",
       "      <th>max</th>\n",
       "      <td>69.000000</td>\n",
       "      <td>1.000000e+11</td>\n",
       "      <td>5.000000e+08</td>\n",
       "      <td>40.000000</td>\n",
       "    </tr>\n",
       "  </tbody>\n",
       "</table>\n",
       "</div>"
      ],
      "text/plain": [
       "               Age  Bruto_Salary  Bruto_Salary_Last_Year  Shorter_Week\n",
       "count  1226.000000  1.253000e+03            8.850000e+02    373.000000\n",
       "mean     32.509788  8.027904e+07            6.322459e+05     12.967828\n",
       "std       5.663804  2.825061e+09            1.680508e+07     15.275174\n",
       "min      20.000000  1.000100e+04            1.100000e+04      0.000000\n",
       "25%      29.000000  5.880000e+04            5.500000e+04      0.000000\n",
       "50%      32.000000  7.000000e+04            6.500000e+04      0.000000\n",
       "75%      35.000000  8.000000e+04            7.500000e+04     30.000000\n",
       "max      69.000000  1.000000e+11            5.000000e+08     40.000000"
      ]
     },
     "execution_count": 13,
     "metadata": {},
     "output_type": "execute_result"
    }
   ],
   "source": [
    "df.describe()"
   ]
  },
  {
   "cell_type": "code",
   "execution_count": 14,
   "id": "552b7dc9",
   "metadata": {},
   "outputs": [
    {
     "data": {
      "text/html": [
       "<div>\n",
       "<style scoped>\n",
       "    .dataframe tbody tr th:only-of-type {\n",
       "        vertical-align: middle;\n",
       "    }\n",
       "\n",
       "    .dataframe tbody tr th {\n",
       "        vertical-align: top;\n",
       "    }\n",
       "\n",
       "    .dataframe thead th {\n",
       "        text-align: right;\n",
       "    }\n",
       "</style>\n",
       "<table border=\"1\" class=\"dataframe\">\n",
       "  <thead>\n",
       "    <tr style=\"text-align: right;\">\n",
       "      <th></th>\n",
       "      <th>Timestamp</th>\n",
       "      <th>Gender</th>\n",
       "      <th>City</th>\n",
       "      <th>Position</th>\n",
       "      <th>Experience_Y</th>\n",
       "      <th>Experience_Germany_Y</th>\n",
       "      <th>Seniority</th>\n",
       "      <th>Primary_Technology</th>\n",
       "      <th>Secondary_Technologies</th>\n",
       "      <th>Bonus</th>\n",
       "      <th>Bonus_Last_Year</th>\n",
       "      <th>Vacation</th>\n",
       "      <th>Employment_Status</th>\n",
       "      <th>Contract_Duration</th>\n",
       "      <th>Language</th>\n",
       "      <th>Company_Size</th>\n",
       "      <th>Company_Type</th>\n",
       "      <th>Lost_Job</th>\n",
       "      <th>WFH_Allowance</th>\n",
       "    </tr>\n",
       "  </thead>\n",
       "  <tbody>\n",
       "    <tr>\n",
       "      <th>count</th>\n",
       "      <td>1253</td>\n",
       "      <td>1243</td>\n",
       "      <td>1253</td>\n",
       "      <td>1247</td>\n",
       "      <td>1237</td>\n",
       "      <td>1221</td>\n",
       "      <td>1241</td>\n",
       "      <td>1126</td>\n",
       "      <td>1096</td>\n",
       "      <td>829</td>\n",
       "      <td>614</td>\n",
       "      <td>1185</td>\n",
       "      <td>1236</td>\n",
       "      <td>1224</td>\n",
       "      <td>1237</td>\n",
       "      <td>1235</td>\n",
       "      <td>1228</td>\n",
       "      <td>1233</td>\n",
       "      <td>462</td>\n",
       "    </tr>\n",
       "    <tr>\n",
       "      <th>unique</th>\n",
       "      <td>1248</td>\n",
       "      <td>3</td>\n",
       "      <td>119</td>\n",
       "      <td>148</td>\n",
       "      <td>48</td>\n",
       "      <td>53</td>\n",
       "      <td>24</td>\n",
       "      <td>256</td>\n",
       "      <td>562</td>\n",
       "      <td>168</td>\n",
       "      <td>131</td>\n",
       "      <td>45</td>\n",
       "      <td>11</td>\n",
       "      <td>3</td>\n",
       "      <td>14</td>\n",
       "      <td>5</td>\n",
       "      <td>63</td>\n",
       "      <td>10</td>\n",
       "      <td>59</td>\n",
       "    </tr>\n",
       "    <tr>\n",
       "      <th>top</th>\n",
       "      <td>24/11/2020 13:55:19</td>\n",
       "      <td>Male</td>\n",
       "      <td>Berlin</td>\n",
       "      <td>Software Engineer</td>\n",
       "      <td>10</td>\n",
       "      <td>2</td>\n",
       "      <td>Senior</td>\n",
       "      <td>Java</td>\n",
       "      <td>Javascript / Typescript</td>\n",
       "      <td>0</td>\n",
       "      <td>0</td>\n",
       "      <td>30</td>\n",
       "      <td>Full-time employee</td>\n",
       "      <td>Unlimited contract</td>\n",
       "      <td>English</td>\n",
       "      <td>1000+</td>\n",
       "      <td>Product</td>\n",
       "      <td>No</td>\n",
       "      <td>0</td>\n",
       "    </tr>\n",
       "    <tr>\n",
       "      <th>freq</th>\n",
       "      <td>2</td>\n",
       "      <td>1049</td>\n",
       "      <td>681</td>\n",
       "      <td>387</td>\n",
       "      <td>138</td>\n",
       "      <td>195</td>\n",
       "      <td>565</td>\n",
       "      <td>184</td>\n",
       "      <td>44</td>\n",
       "      <td>227</td>\n",
       "      <td>200</td>\n",
       "      <td>488</td>\n",
       "      <td>1190</td>\n",
       "      <td>1159</td>\n",
       "      <td>1020</td>\n",
       "      <td>448</td>\n",
       "      <td>760</td>\n",
       "      <td>1162</td>\n",
       "      <td>161</td>\n",
       "    </tr>\n",
       "  </tbody>\n",
       "</table>\n",
       "</div>"
      ],
      "text/plain": [
       "                  Timestamp Gender    City          Position  Experience_Y  \\\n",
       "count                  1253   1243    1253               1247         1237   \n",
       "unique                 1248      3     119                148           48   \n",
       "top     24/11/2020 13:55:19   Male  Berlin  Software Engineer           10   \n",
       "freq                      2   1049     681                387          138   \n",
       "\n",
       "       Experience_Germany_Y Seniority Primary_Technology  \\\n",
       "count                  1221      1241               1126   \n",
       "unique                   53        24                256   \n",
       "top                       2    Senior               Java   \n",
       "freq                    195       565                184   \n",
       "\n",
       "         Secondary_Technologies Bonus Bonus_Last_Year Vacation  \\\n",
       "count                      1096   829             614     1185   \n",
       "unique                      562   168             131       45   \n",
       "top     Javascript / Typescript     0               0       30   \n",
       "freq                         44   227             200      488   \n",
       "\n",
       "         Employment_Status   Contract_Duration Language Company_Size  \\\n",
       "count                 1236                1224     1237         1235   \n",
       "unique                  11                   3       14            5   \n",
       "top     Full-time employee  Unlimited contract  English        1000+   \n",
       "freq                  1190                1159     1020          448   \n",
       "\n",
       "       Company_Type Lost_Job WFH_Allowance  \n",
       "count          1228     1233           462  \n",
       "unique           63       10            59  \n",
       "top         Product       No             0  \n",
       "freq            760     1162           161  "
      ]
     },
     "execution_count": 14,
     "metadata": {},
     "output_type": "execute_result"
    }
   ],
   "source": [
    "df.describe(include='object')"
   ]
  },
  {
   "cell_type": "code",
   "execution_count": 15,
   "id": "f6ef3d49",
   "metadata": {},
   "outputs": [
    {
     "data": {
      "text/plain": [
       "Column\n",
       "Timestamp                                                         Timestamp\n",
       "Age                                                                     Age\n",
       "Gender                                                               Gender\n",
       "City                                                                   City\n",
       "Position                                                           Position\n",
       "Experience_Y                                      Total years of experience\n",
       "Experience_Germany_Y                         Years of experience in Germany\n",
       "Seniority                                                   Seniority level\n",
       "Primary_Technology              Your main technology / programming language\n",
       "Secondary_Technologies    Other technologies/programming languages you u...\n",
       "Bruto_Salary              Yearly brutto salary (without bonus and stocks...\n",
       "Bonus                                          Yearly bonus + stocks in EUR\n",
       "Bruto_Salary_Last_Year    Annual brutto salary (without bonus and stocks...\n",
       "Bonus_Last_Year           Annual bonus+stocks one year ago. Only answer ...\n",
       "Vacation                                            Number of vacation days\n",
       "Employment_Status                                         Employment status\n",
       "Contract_Duration                                         Сontract duration\n",
       "Language                                              Main language at work\n",
       "Company_Size                                                   Company size\n",
       "Company_Type                                                   Company type\n",
       "Lost_Job                  Have you lost your job due to the coronavirus ...\n",
       "Shorter_Week              Have you been forced to have a shorter working...\n",
       "WFH_Allowance             Have you received additional monetary support ...\n",
       "Name: Question, dtype: object"
      ]
     },
     "execution_count": 15,
     "metadata": {},
     "output_type": "execute_result"
    }
   ],
   "source": [
    "q_schema = pd.DataFrame.from_dict(questions_columns_schema, orient='index')\n",
    "q_schema.columns = ['Column']\n",
    "q_schema['Question'] = q_schema.index\n",
    "q_schema.set_index('Column', inplace=True)\n",
    "q_schema = q_schema.iloc[:,0]\n",
    "q_schema"
   ]
  },
  {
   "cell_type": "code",
   "execution_count": 16,
   "id": "82f80fea",
   "metadata": {},
   "outputs": [],
   "source": [
    "df.drop(['Timestamp', 'Shorter_Week', 'WFH_Allowance', 'Experience_Germany_Y'], axis=1, inplace=True)"
   ]
  },
  {
   "cell_type": "code",
   "execution_count": 17,
   "id": "543dcffa",
   "metadata": {},
   "outputs": [
    {
     "data": {
      "text/plain": [
       "Age                       float64\n",
       "Gender                     object\n",
       "City                       object\n",
       "Position                   object\n",
       "Experience_Y               object\n",
       "Seniority                  object\n",
       "Primary_Technology         object\n",
       "Secondary_Technologies     object\n",
       "Bruto_Salary              float64\n",
       "Bonus                      object\n",
       "Bruto_Salary_Last_Year    float64\n",
       "Bonus_Last_Year            object\n",
       "Vacation                   object\n",
       "Employment_Status          object\n",
       "Contract_Duration          object\n",
       "Language                   object\n",
       "Company_Size               object\n",
       "Company_Type               object\n",
       "Lost_Job                   object\n",
       "dtype: object"
      ]
     },
     "execution_count": 17,
     "metadata": {},
     "output_type": "execute_result"
    }
   ],
   "source": [
    "df.dtypes"
   ]
  },
  {
   "cell_type": "code",
   "execution_count": 70,
   "id": "b765393b",
   "metadata": {},
   "outputs": [
    {
     "data": {
      "text/plain": [
       "(1236, 19)"
      ]
     },
     "execution_count": 70,
     "metadata": {},
     "output_type": "execute_result"
    }
   ],
   "source": [
    "df.shape"
   ]
  },
  {
   "cell_type": "code",
   "execution_count": 71,
   "id": "aef0726f",
   "metadata": {},
   "outputs": [
    {
     "data": {
      "text/html": [
       "<div>\n",
       "<style scoped>\n",
       "    .dataframe tbody tr th:only-of-type {\n",
       "        vertical-align: middle;\n",
       "    }\n",
       "\n",
       "    .dataframe tbody tr th {\n",
       "        vertical-align: top;\n",
       "    }\n",
       "\n",
       "    .dataframe thead th {\n",
       "        text-align: right;\n",
       "    }\n",
       "</style>\n",
       "<table border=\"1\" class=\"dataframe\">\n",
       "  <thead>\n",
       "    <tr style=\"text-align: right;\">\n",
       "      <th></th>\n",
       "      <th>Age</th>\n",
       "      <th>Gender</th>\n",
       "      <th>City</th>\n",
       "      <th>Position</th>\n",
       "      <th>Experience_Y</th>\n",
       "      <th>Seniority</th>\n",
       "      <th>Primary_Technology</th>\n",
       "      <th>Secondary_Technologies</th>\n",
       "      <th>Bruto_Salary</th>\n",
       "      <th>Bonus</th>\n",
       "      <th>Bruto_Salary_Last_Year</th>\n",
       "      <th>Bonus_Last_Year</th>\n",
       "      <th>Vacation</th>\n",
       "      <th>Employment_Status</th>\n",
       "      <th>Contract_Duration</th>\n",
       "      <th>Language</th>\n",
       "      <th>Company_Size</th>\n",
       "      <th>Company_Type</th>\n",
       "      <th>Lost_Job</th>\n",
       "    </tr>\n",
       "  </thead>\n",
       "  <tbody>\n",
       "    <tr>\n",
       "      <th>0</th>\n",
       "      <td>26.0</td>\n",
       "      <td>Male</td>\n",
       "      <td>Munich</td>\n",
       "      <td>Software Engineer</td>\n",
       "      <td>5.0</td>\n",
       "      <td>Senior</td>\n",
       "      <td>TypeScript</td>\n",
       "      <td>Kotlin, Javascript / Typescript</td>\n",
       "      <td>80000</td>\n",
       "      <td>5000</td>\n",
       "      <td>75000.0</td>\n",
       "      <td>10000</td>\n",
       "      <td>30</td>\n",
       "      <td>Full-time employee</td>\n",
       "      <td>Unlimited contract</td>\n",
       "      <td>English</td>\n",
       "      <td>51-100</td>\n",
       "      <td>Product</td>\n",
       "      <td>No</td>\n",
       "    </tr>\n",
       "    <tr>\n",
       "      <th>1</th>\n",
       "      <td>26.0</td>\n",
       "      <td>Male</td>\n",
       "      <td>Berlin</td>\n",
       "      <td>Backend Developer</td>\n",
       "      <td>7.0</td>\n",
       "      <td>Senior</td>\n",
       "      <td>Ruby</td>\n",
       "      <td>NaN</td>\n",
       "      <td>80000</td>\n",
       "      <td>NaN</td>\n",
       "      <td>82000.0</td>\n",
       "      <td>5000</td>\n",
       "      <td>28</td>\n",
       "      <td>Full-time employee</td>\n",
       "      <td>Unlimited contract</td>\n",
       "      <td>English</td>\n",
       "      <td>101-1000</td>\n",
       "      <td>Product</td>\n",
       "      <td>No</td>\n",
       "    </tr>\n",
       "    <tr>\n",
       "      <th>2</th>\n",
       "      <td>29.0</td>\n",
       "      <td>Male</td>\n",
       "      <td>Berlin</td>\n",
       "      <td>Software Engineer</td>\n",
       "      <td>12.0</td>\n",
       "      <td>Lead</td>\n",
       "      <td>Javascript / Typescript</td>\n",
       "      <td>Javascript / Typescript, Docker</td>\n",
       "      <td>120000</td>\n",
       "      <td>120000</td>\n",
       "      <td>100000.0</td>\n",
       "      <td>100000</td>\n",
       "      <td>30</td>\n",
       "      <td>Self-employed (freelancer)</td>\n",
       "      <td>Temporary contract</td>\n",
       "      <td>English</td>\n",
       "      <td>101-1000</td>\n",
       "      <td>Product</td>\n",
       "      <td>Yes</td>\n",
       "    </tr>\n",
       "    <tr>\n",
       "      <th>3</th>\n",
       "      <td>28.0</td>\n",
       "      <td>Male</td>\n",
       "      <td>Berlin</td>\n",
       "      <td>Frontend Developer</td>\n",
       "      <td>4.0</td>\n",
       "      <td>Junior</td>\n",
       "      <td>Javascript</td>\n",
       "      <td>NaN</td>\n",
       "      <td>54000</td>\n",
       "      <td>NaN</td>\n",
       "      <td>NaN</td>\n",
       "      <td>NaN</td>\n",
       "      <td>24</td>\n",
       "      <td>Full-time employee</td>\n",
       "      <td>Unlimited contract</td>\n",
       "      <td>English</td>\n",
       "      <td>51-100</td>\n",
       "      <td>Startup</td>\n",
       "      <td>No</td>\n",
       "    </tr>\n",
       "    <tr>\n",
       "      <th>4</th>\n",
       "      <td>37.0</td>\n",
       "      <td>Male</td>\n",
       "      <td>Berlin</td>\n",
       "      <td>Backend Developer</td>\n",
       "      <td>17.0</td>\n",
       "      <td>Senior</td>\n",
       "      <td>C# .NET</td>\n",
       "      <td>.NET, SQL, AWS, Docker</td>\n",
       "      <td>62000</td>\n",
       "      <td>NaN</td>\n",
       "      <td>62000.0</td>\n",
       "      <td>NaN</td>\n",
       "      <td>29</td>\n",
       "      <td>Full-time employee</td>\n",
       "      <td>Unlimited contract</td>\n",
       "      <td>English</td>\n",
       "      <td>101-1000</td>\n",
       "      <td>Product</td>\n",
       "      <td>No</td>\n",
       "    </tr>\n",
       "    <tr>\n",
       "      <th>...</th>\n",
       "      <td>...</td>\n",
       "      <td>...</td>\n",
       "      <td>...</td>\n",
       "      <td>...</td>\n",
       "      <td>...</td>\n",
       "      <td>...</td>\n",
       "      <td>...</td>\n",
       "      <td>...</td>\n",
       "      <td>...</td>\n",
       "      <td>...</td>\n",
       "      <td>...</td>\n",
       "      <td>...</td>\n",
       "      <td>...</td>\n",
       "      <td>...</td>\n",
       "      <td>...</td>\n",
       "      <td>...</td>\n",
       "      <td>...</td>\n",
       "      <td>...</td>\n",
       "      <td>...</td>\n",
       "    </tr>\n",
       "    <tr>\n",
       "      <th>1248</th>\n",
       "      <td>31.0</td>\n",
       "      <td>Male</td>\n",
       "      <td>Berlin</td>\n",
       "      <td>Backend Developer</td>\n",
       "      <td>9.0</td>\n",
       "      <td>Senior</td>\n",
       "      <td>Java</td>\n",
       "      <td>Python, Javascript / Typescript, Java / Scala,...</td>\n",
       "      <td>70000</td>\n",
       "      <td>72000</td>\n",
       "      <td>70000.0</td>\n",
       "      <td>72000</td>\n",
       "      <td>26</td>\n",
       "      <td>Full-time employee</td>\n",
       "      <td>Unlimited contract</td>\n",
       "      <td>English</td>\n",
       "      <td>51-100</td>\n",
       "      <td>Product</td>\n",
       "      <td>Yes</td>\n",
       "    </tr>\n",
       "    <tr>\n",
       "      <th>1249</th>\n",
       "      <td>33.0</td>\n",
       "      <td>Male</td>\n",
       "      <td>Berlin</td>\n",
       "      <td>Researcher/ Consumer Insights Analyst</td>\n",
       "      <td>10.0</td>\n",
       "      <td>Senior</td>\n",
       "      <td>consumer analysis</td>\n",
       "      <td>NaN</td>\n",
       "      <td>60000</td>\n",
       "      <td>3000</td>\n",
       "      <td>48000.0</td>\n",
       "      <td>2500</td>\n",
       "      <td>unlimited</td>\n",
       "      <td>Full-time employee</td>\n",
       "      <td>Unlimited contract</td>\n",
       "      <td>English</td>\n",
       "      <td>1000+</td>\n",
       "      <td>Product</td>\n",
       "      <td>No</td>\n",
       "    </tr>\n",
       "    <tr>\n",
       "      <th>1250</th>\n",
       "      <td>39.0</td>\n",
       "      <td>Male</td>\n",
       "      <td>Munich</td>\n",
       "      <td>IT Operations Manager</td>\n",
       "      <td>15.0</td>\n",
       "      <td>Lead</td>\n",
       "      <td>PHP</td>\n",
       "      <td>Python, C/C++, Javascript / Typescript, Java /...</td>\n",
       "      <td>110000</td>\n",
       "      <td>0</td>\n",
       "      <td>90000.0</td>\n",
       "      <td>NaN</td>\n",
       "      <td>28</td>\n",
       "      <td>Full-time employee</td>\n",
       "      <td>Unlimited contract</td>\n",
       "      <td>English</td>\n",
       "      <td>101-1000</td>\n",
       "      <td>eCommerce</td>\n",
       "      <td>No</td>\n",
       "    </tr>\n",
       "    <tr>\n",
       "      <th>1251</th>\n",
       "      <td>26.0</td>\n",
       "      <td>Male</td>\n",
       "      <td>Saarbrücken</td>\n",
       "      <td>Frontend Developer</td>\n",
       "      <td>7.0</td>\n",
       "      <td>Middle</td>\n",
       "      <td>JavaScript</td>\n",
       "      <td>Javascript / Typescript, Docker, HTML, CSS; Ad...</td>\n",
       "      <td>38350</td>\n",
       "      <td>40950</td>\n",
       "      <td>33800.0</td>\n",
       "      <td>36400</td>\n",
       "      <td>27</td>\n",
       "      <td>Full-time employee</td>\n",
       "      <td>Unlimited contract</td>\n",
       "      <td>German</td>\n",
       "      <td>101-1000</td>\n",
       "      <td>Product</td>\n",
       "      <td>No</td>\n",
       "    </tr>\n",
       "    <tr>\n",
       "      <th>1252</th>\n",
       "      <td>26.0</td>\n",
       "      <td>Male</td>\n",
       "      <td>Berlin</td>\n",
       "      <td>DevOps</td>\n",
       "      <td>2.0</td>\n",
       "      <td>Middle</td>\n",
       "      <td>yaml</td>\n",
       "      <td>Python, AWS, Kubernetes, Docker, terraform, an...</td>\n",
       "      <td>65000</td>\n",
       "      <td>6500</td>\n",
       "      <td>40000.0</td>\n",
       "      <td>0</td>\n",
       "      <td>30</td>\n",
       "      <td>Full-time employee</td>\n",
       "      <td>Unlimited contract</td>\n",
       "      <td>English</td>\n",
       "      <td>51-100</td>\n",
       "      <td>Startup</td>\n",
       "      <td>No</td>\n",
       "    </tr>\n",
       "  </tbody>\n",
       "</table>\n",
       "<p>1236 rows × 19 columns</p>\n",
       "</div>"
      ],
      "text/plain": [
       "       Age Gender         City                               Position   \\\n",
       "0     26.0   Male       Munich                       Software Engineer   \n",
       "1     26.0   Male       Berlin                       Backend Developer   \n",
       "2     29.0   Male       Berlin                       Software Engineer   \n",
       "3     28.0   Male       Berlin                      Frontend Developer   \n",
       "4     37.0   Male       Berlin                       Backend Developer   \n",
       "...    ...    ...          ...                                     ...   \n",
       "1248  31.0   Male       Berlin                       Backend Developer   \n",
       "1249  33.0   Male       Berlin  Researcher/ Consumer Insights Analyst    \n",
       "1250  39.0   Male       Munich                   IT Operations Manager   \n",
       "1251  26.0   Male  Saarbrücken                      Frontend Developer   \n",
       "1252  26.0   Male       Berlin                                  DevOps   \n",
       "\n",
       "      Experience_Y Seniority       Primary_Technology  \\\n",
       "0              5.0    Senior               TypeScript   \n",
       "1              7.0    Senior                     Ruby   \n",
       "2             12.0      Lead  Javascript / Typescript   \n",
       "3              4.0    Junior               Javascript   \n",
       "4             17.0    Senior                  C# .NET   \n",
       "...            ...       ...                      ...   \n",
       "1248           9.0    Senior                     Java   \n",
       "1249          10.0    Senior        consumer analysis   \n",
       "1250          15.0      Lead                      PHP   \n",
       "1251           7.0    Middle               JavaScript   \n",
       "1252           2.0    Middle                     yaml   \n",
       "\n",
       "                                 Secondary_Technologies  Bruto_Salary   Bonus  \\\n",
       "0                       Kotlin, Javascript / Typescript         80000    5000   \n",
       "1                                                   NaN         80000     NaN   \n",
       "2                       Javascript / Typescript, Docker        120000  120000   \n",
       "3                                                   NaN         54000     NaN   \n",
       "4                                .NET, SQL, AWS, Docker         62000     NaN   \n",
       "...                                                 ...           ...     ...   \n",
       "1248  Python, Javascript / Typescript, Java / Scala,...         70000   72000   \n",
       "1249                                                NaN         60000    3000   \n",
       "1250  Python, C/C++, Javascript / Typescript, Java /...        110000       0   \n",
       "1251  Javascript / Typescript, Docker, HTML, CSS; Ad...         38350   40950   \n",
       "1252  Python, AWS, Kubernetes, Docker, terraform, an...         65000    6500   \n",
       "\n",
       "      Bruto_Salary_Last_Year Bonus_Last_Year    Vacation  \\\n",
       "0                    75000.0           10000          30   \n",
       "1                    82000.0            5000          28   \n",
       "2                   100000.0          100000          30   \n",
       "3                        NaN             NaN          24   \n",
       "4                    62000.0             NaN          29   \n",
       "...                      ...             ...         ...   \n",
       "1248                 70000.0           72000          26   \n",
       "1249                 48000.0            2500  unlimited    \n",
       "1250                 90000.0             NaN          28   \n",
       "1251                 33800.0           36400          27   \n",
       "1252                 40000.0               0          30   \n",
       "\n",
       "               Employment_Status   Contract_Duration Language Company_Size  \\\n",
       "0             Full-time employee  Unlimited contract  English       51-100   \n",
       "1             Full-time employee  Unlimited contract  English     101-1000   \n",
       "2     Self-employed (freelancer)  Temporary contract  English     101-1000   \n",
       "3             Full-time employee  Unlimited contract  English       51-100   \n",
       "4             Full-time employee  Unlimited contract  English     101-1000   \n",
       "...                          ...                 ...      ...          ...   \n",
       "1248          Full-time employee  Unlimited contract  English       51-100   \n",
       "1249          Full-time employee  Unlimited contract  English        1000+   \n",
       "1250          Full-time employee  Unlimited contract  English     101-1000   \n",
       "1251          Full-time employee  Unlimited contract   German     101-1000   \n",
       "1252          Full-time employee  Unlimited contract  English       51-100   \n",
       "\n",
       "     Company_Type Lost_Job  \n",
       "0         Product       No  \n",
       "1         Product       No  \n",
       "2         Product      Yes  \n",
       "3         Startup       No  \n",
       "4         Product       No  \n",
       "...           ...      ...  \n",
       "1248      Product      Yes  \n",
       "1249      Product       No  \n",
       "1250    eCommerce       No  \n",
       "1251      Product       No  \n",
       "1252      Startup       No  \n",
       "\n",
       "[1236 rows x 19 columns]"
      ]
     },
     "metadata": {},
     "output_type": "display_data"
    }
   ],
   "source": [
    "display(df)"
   ]
  },
  {
   "cell_type": "code",
   "execution_count": 19,
   "id": "c7e7f0bc",
   "metadata": {},
   "outputs": [
    {
     "data": {
      "text/plain": [
       "16"
      ]
     },
     "execution_count": 19,
     "metadata": {},
     "output_type": "execute_result"
    }
   ],
   "source": [
    "len(df[df.duplicated()==True])"
   ]
  },
  {
   "cell_type": "code",
   "execution_count": 20,
   "id": "9e879faf",
   "metadata": {},
   "outputs": [
    {
     "data": {
      "text/plain": [
       "(1237, 19)"
      ]
     },
     "execution_count": 20,
     "metadata": {},
     "output_type": "execute_result"
    }
   ],
   "source": [
    "df.drop_duplicates(inplace=True)\n",
    "df.shape"
   ]
  },
  {
   "cell_type": "code",
   "execution_count": 21,
   "id": "0a417ff1",
   "metadata": {},
   "outputs": [
    {
     "data": {
      "text/plain": [
       "array([26., 29., 28., 37., 32., 24., 35., nan, 34., 31., 41., 27., 25.,\n",
       "       59., 36., 38., 40., 39., 33., 30., 49., 48., 44., 66., 45., 43.,\n",
       "       42., 46., 47., 56., 53., 65., 22., 23., 50., 51., 21., 20., 54.,\n",
       "       69., 52.])"
      ]
     },
     "execution_count": 21,
     "metadata": {},
     "output_type": "execute_result"
    }
   ],
   "source": [
    "df.Age.unique()"
   ]
  },
  {
   "cell_type": "code",
   "execution_count": 22,
   "id": "e12ca63e",
   "metadata": {},
   "outputs": [
    {
     "name": "stdout",
     "output_type": "stream",
     "text": [
      "min age: 20\n",
      "max age: 69\n"
     ]
    }
   ],
   "source": [
    "print(f'min age: {int(np.min(df.Age))}\\nmax age: {int(np.max(df.Age))}')"
   ]
  },
  {
   "cell_type": "code",
   "execution_count": 69,
   "id": "0b925435",
   "metadata": {},
   "outputs": [
    {
     "data": {
      "text/plain": [
       "array(['Male', 'Female', nan, 'Diverse'], dtype=object)"
      ]
     },
     "execution_count": 69,
     "metadata": {},
     "output_type": "execute_result"
    }
   ],
   "source": [
    "df.Gender.unique()"
   ]
  },
  {
   "cell_type": "code",
   "execution_count": 24,
   "id": "9fc3c8af",
   "metadata": {},
   "outputs": [
    {
     "name": "stderr",
     "output_type": "stream",
     "text": [
      "C:\\Users\\cease\\AppData\\Local\\Temp\\ipykernel_15604\\1140612126.py:3: UserWarning: Ignoring `palette` because no `hue` variable has been assigned.\n",
      "  sns.histplot(data=df, x=df.Age, ax=axes[0], palette='twilight').set_title('Overall')\n"
     ]
    },
    {
     "data": {
      "image/png": "[encoded data removed]",
      "text/plain": [
       "<Figure size 1000x500 with 2 Axes>"
      ]
     },
     "metadata": {},
     "output_type": "display_data"
    }
   ],
   "source": [
    "fig, axes = plt.subplots(1, 2, figsize=(10,5))\n",
    "fig.suptitle('Respodents Age Distribution')\n",
    "sns.histplot(data=df, x=df.Age, ax=axes[0], palette='twilight').set_title('Overall')\n",
    "sns.histplot(data=df, x=df.Age, hue=df.Gender, ax=axes[1], palette='twilight').set_title('By Gender')\n",
    "plt.show()"
   ]
  },
  {
   "cell_type": "code",
   "execution_count": 25,
   "id": "5c051afb",
   "metadata": {},
   "outputs": [
    {
     "data": {
      "image/png": "[encoded data removed]",
      "text/plain": [
       "<Figure size 640x480 with 1 Axes>"
      ]
     },
     "metadata": {},
     "output_type": "display_data"
    }
   ],
   "source": [
    "plt.figure()\n",
    "sns.boxplot(x=df.Age, palette='twilight').set_title('Boxplot of Age Distribution')\n",
    "plt.show()"
   ]
  },
  {
   "cell_type": "code",
   "execution_count": 26,
   "id": "8898333c",
   "metadata": {},
   "outputs": [
    {
     "data": {
      "text/plain": [
       "Gender\n",
       "Male       1035\n",
       "Female      190\n",
       "Diverse       2\n",
       "Name: count, dtype: int64"
      ]
     },
     "execution_count": 26,
     "metadata": {},
     "output_type": "execute_result"
    }
   ],
   "source": [
    "df.Gender.value_counts()"
   ]
  },
  {
   "cell_type": "code",
   "execution_count": 27,
   "id": "9b9922f0",
   "metadata": {},
   "outputs": [
    {
     "data": {
      "text/plain": [
       "([<matplotlib.patches.Wedge at 0x166ef911990>,\n",
       "  <matplotlib.patches.Wedge at 0x166f1ef94d0>,\n",
       "  <matplotlib.patches.Wedge at 0x166f1efb310>],\n",
       " [Text(1.057897855891565, -0.5664381047387523, 'Male'),\n",
       "  Text(-1.1428986502311518, 0.6195019574624537, 'Female'),\n",
       "  Text(-1.2999829548632744, 0.0066571063496287716, 'Diverse')],\n",
       " [Text(0.617107082603413, -0.33042222776427216, '84.4%'),\n",
       "  Text(-0.7033222462960933, 0.38123197382304846, '15.5%'),\n",
       "  Text(-0.7999895106850919, 0.004096680830540782, '0.2%')])"
      ]
     },
     "execution_count": 27,
     "metadata": {},
     "output_type": "execute_result"
    },
    {
     "data": {
      "image/png": "[encoded data removed]",
      "text/plain": [
       "<Figure size 1200x600 with 1 Axes>"
      ]
     },
     "metadata": {},
     "output_type": "display_data"
    }
   ],
   "source": [
    "plt.figure(figsize=(12,6))\n",
    "plt.style.use('seaborn-v0_8-pastel')\n",
    "plt.title('Respondents Gender')\n",
    "plt.pie(df.Gender.value_counts().values, labels=df.Gender.value_counts().index, autopct='%1.1f%%', startangle=180, explode=[0.1,0.2,0.2])"
   ]
  },
  {
   "cell_type": "code",
   "execution_count": 28,
   "id": "be6d5b2b",
   "metadata": {},
   "outputs": [
    {
     "data": {
      "text/plain": [
       "array(['Munich', 'Berlin', 'Hamburg', 'Wolfsburg', 'Stuttgart',\n",
       "       'Schleswig-Holstein', 'London', 'Konstanz area', 'Frankfurt',\n",
       "       'Cologne', 'Kempten', 'Münster', 'Erlangen', 'Vienna', 'Moldova',\n",
       "       'Rosenheim', 'Mannheim ', 'Boeblingen', 'Düsseldorf', 'Ingolstadt',\n",
       "       'Nürnberg', 'Ansbach', 'Leipzig', 'Mannheim', 'Tuttlingen', 'Bonn',\n",
       "       'Moscow', 'Koblenz', 'Warsaw', 'Heidelberg', 'Karlsruhe', 'Köln',\n",
       "       'Aachen', 'Karlsruhe ', 'Samara', 'Riga, Latvia', 'Dusseldorf',\n",
       "       'Zurich', 'Helsinki', 'Würzburg', 'Kiev', 'Den Haag', 'Amsterdam',\n",
       "       'Cracovia', 'Tallinn', 'Prague', 'Utrecht', 'Stockholm',\n",
       "       'Braunschweig ', 'Dresden', 'Kyiv', 'Stuttgart ', 'Malta',\n",
       "       'Lübeck', 'Nuremberg ', 'Bodensee', 'Milan', 'Salzburg', 'Rome',\n",
       "       'Wroclaw', 'Cupertino', 'Paris', 'Dublin ', 'Paderborn',\n",
       "       'Konstanz', 'Ulm', 'Düsseldorf ', 'Barcelona', 'Bölingen',\n",
       "       'Tampere (Finland)', 'Hannover', 'Bucharest', 'Siegen', 'Minsk',\n",
       "       'Nuremberg', 'Marseille', 'Friedrichshafen', 'Walldorf',\n",
       "       'Eindhoven', 'France', 'Regensburg', 'Warsaw, Poland', 'Heilbronn',\n",
       "       'Dortmund', 'Jena', 'City in Russia', 'Cracow', 'Brunswick',\n",
       "       'Dublin', 'Madrid', 'Lisbon', 'Sofia', 'Luttich', 'Milano',\n",
       "       'Bielefeld', 'Basel', 'NJ, USA', 'Istanbul', 'warsaw',\n",
       "       'Hildesheim', 'Heidelberg ', 'Murnau am Staffelsee ', 'Zürich',\n",
       "       'Innsbruck', 'Brussels ', 'Hildesheim ', 'Prefer not to say',\n",
       "       'Dusseldurf', 'Fr', 'Darmstadt', 'Duesseldorf', 'Cambridge',\n",
       "       'Brussels', 'Copenhagen', 'Sevilla', 'Krakow', 'Ingolstadt ',\n",
       "       'Saint-Petersburg', 'Saarbrücken'], dtype=object)"
      ]
     },
     "execution_count": 28,
     "metadata": {},
     "output_type": "execute_result"
    }
   ],
   "source": [
    "df.City.unique()"
   ]
  },
  {
   "cell_type": "code",
   "execution_count": 29,
   "id": "a8bfb855",
   "metadata": {},
   "outputs": [],
   "source": [
    "df.loc[df[df.City=='Konstanz area'].index, 'City'] = 'Konstanz'\n",
    "df.loc[df[(df.City=='Düsseldorf ') | (df.City=='Dusseldurf') | (df.City=='Duesseldorf')].index, 'City'] = 'Düsseldorf'\n",
    "df.loc[df[df.City=='Heidelberg '].index, 'City'] = 'Heidelberg'\n",
    "df.loc[df[df.City=='Ingolstadt '].index, 'City'] = 'Ingolstadt'\n",
    "df.loc[df[df.City=='Milano'].index, 'City'] = 'Milan'\n",
    "df.loc[df[df.City=='warsaw'].index, 'City'] = 'Warsaw'\n",
    "df.loc[df[df.City=='Stuttgart '].index, 'City'] = 'Stuttgart'"
   ]
  },
  {
   "cell_type": "code",
   "execution_count": 30,
   "id": "a30af1be",
   "metadata": {},
   "outputs": [
    {
     "data": {
      "text/plain": [
       "City\n",
       "Berlin        671\n",
       "Munich        235\n",
       "Frankfurt      44\n",
       "Hamburg        39\n",
       "Stuttgart      33\n",
       "Cologne        20\n",
       "Düsseldorf     11\n",
       "Amsterdam       9\n",
       "Karlsruhe       6\n",
       "Prague          6\n",
       "Name: count, dtype: int64"
      ]
     },
     "execution_count": 30,
     "metadata": {},
     "output_type": "execute_result"
    }
   ],
   "source": [
    "top_10_cities = df.City.value_counts().nlargest(10)\n",
    "top_10_cities"
   ]
  },
  {
   "cell_type": "code",
   "execution_count": 31,
   "id": "8b99d3fe",
   "metadata": {},
   "outputs": [
    {
     "data": {
      "image/png": "[encoded data removed]",
      "text/plain": [
       "<Figure size 640x480 with 1 Axes>"
      ]
     },
     "metadata": {},
     "output_type": "display_data"
    }
   ],
   "source": [
    "plt.figure()\n",
    "ax = sns.barplot(x=top_10_cities.index, y=top_10_cities.values, palette='twilight')\n",
    "ax.bar_label(ax.containers[0])\n",
    "ax.set_title('Top 10 Cities')\n",
    "plt.xlabel('City')\n",
    "plt.xticks(rotation=45)\n",
    "plt.show()"
   ]
  },
  {
   "cell_type": "code",
   "execution_count": 32,
   "id": "96fa7a33",
   "metadata": {},
   "outputs": [
    {
     "data": {
      "text/plain": [
       "array(['Software Engineer', 'Backend Developer', 'Frontend Developer',\n",
       "       'DevOps', 'Data Engineer', 'Designer (UI/UX)', 'Product Manager',\n",
       "       'Mobile Developer', 'Software Architect', 'Team Lead',\n",
       "       'Test manager', 'QA Engineer', 'Data Scientist',\n",
       "       'Hardware Engineer', 'Engineering Manager', 'Analytics engineer',\n",
       "       'Localization producer', 'Reporting Engineer', 'Account Managet',\n",
       "       'agile master ', 'ML Engineer', 'Solution Architect',\n",
       "       'BI Consultant', 'Fullstack Developer', nan, 'Cloud Architect',\n",
       "       'System Administrator', 'Project Manager', 'Network Engineer ',\n",
       "       'VP Engineering', 'Agile Coach', 'Data Science Manager',\n",
       "       'Scrum Master', 'Firmware Engineer', 'Solutions Architect',\n",
       "       'Data Center Manager', 'C/C++/Java developer', 'DevOps Manager',\n",
       "       'Tech Lead', 'Network Administrator', 'Security Manager',\n",
       "       'Consultant Data Analytics', 'BI IT Consultant',\n",
       "       'Graphic Designer', 'iOS Developer', 'Banker', 'Cloud Engineer',\n",
       "       'Solutions architect', 'Stuttgart', 'Senior Program Manager',\n",
       "       'DB developer/Data analyst', 'Security Engineer',\n",
       "       'Business Analyst', 'DBA', 'Support Engineer', 'Consultant',\n",
       "       'Recruiter', 'Testautomation', 'SAP Developer',\n",
       "       'Systemadministrator', 'SW Architect', 'SRE',\n",
       "       'Fullstack engineer, ну или Software engineer', 'HiWi',\n",
       "       'Project manager', 'Architect', 'Technical Lead',\n",
       "       'Tech Lead / Full-Stack', 'Marketing Analyst', 'CTO',\n",
       "       'Senior Network&Security Eng.', 'Software tester ',\n",
       "       'SAP BW Senior Consultant ', 'QA Manager ',\n",
       "       'Director of Engineering', 'IT Spezialist', 'Manager',\n",
       "       'Consultant ', 'Data Analyst', 'Software Developer in Test',\n",
       "       'Technical account manager ', 'Tech Leader',\n",
       "       'Chief Research Officer', 'Presales Engineer ',\n",
       "       'Freelance AI lead / advisor',\n",
       "       'Business Development Manager Operations ', 'Program Manager',\n",
       "       'Researcher', 'Engineering manager', 'Embedded Software Engineer',\n",
       "       'Dana Analyst', 'Team Manager', 'Data Analyst ',\n",
       "       'working student (QA)', 'Architect ', 'Head of Engineering',\n",
       "       'SAP Consultant', 'BI Consultant SAP/ Data Engineer',\n",
       "       'computer vision researcher', 'Teamlead', 'Senior Data Engineer',\n",
       "       'Analyst', 'IT Manager', 'Head of IT ', 'Lead Software Developer',\n",
       "       'data engineer', 'Tech recruiting', 'BI Analyst ',\n",
       "       'BI Developer / Data Engineer', 'Senior Scrum Master (RTE)',\n",
       "       'Head of BI', 'Technical project manager', 'Project manager ',\n",
       "       'support engineer', 'Security engineer', 'Big Data Engineer',\n",
       "       'Manager ', 'Professor', 'AI Management', 'Sales ', 'XR Developer',\n",
       "       'Student, Software Developer, Data Engineer',\n",
       "       'Engineering Team Lead', 'DataOps Team Lead', 'Software Sales',\n",
       "       'Beikoch', 'Product Management Praktikant', 'Data analyst ',\n",
       "       'Product Analyst', 'Team lead', 'It Consulting ', 'Data architect',\n",
       "       'Staff Engineer', 'Head of IT', 'Computational linguist',\n",
       "       'Rentner', 'technical business analyst', 'Full-Stack Developer',\n",
       "       'QA Manager', 'QA Lead', 'Robotics Engineer', 'DatabEngineer',\n",
       "       'Application Consultant', 'Lead Developer', 'Software Architekt',\n",
       "       'Testmanager', 'ERP Consultant',\n",
       "       'Researcher/ Consumer Insights Analyst ', 'IT Operations Manager'],\n",
       "      dtype=object)"
      ]
     },
     "execution_count": 32,
     "metadata": {},
     "output_type": "execute_result"
    }
   ],
   "source": [
    "df['Position '].unique()"
   ]
  },
  {
   "cell_type": "code",
   "execution_count": 33,
   "id": "21b8111e",
   "metadata": {},
   "outputs": [
    {
     "data": {
      "text/plain": [
       "Position \n",
       "Software Engineer     380\n",
       "Backend Developer     173\n",
       "Data Scientist        108\n",
       "Frontend Developer     89\n",
       "QA Engineer            71\n",
       "DevOps                 57\n",
       "Mobile Developer       53\n",
       "ML Engineer            42\n",
       "Product Manager        35\n",
       "Data Engineer          25\n",
       "Name: count, dtype: int64"
      ]
     },
     "execution_count": 33,
     "metadata": {},
     "output_type": "execute_result"
    }
   ],
   "source": [
    "top_positions = df['Position '].value_counts().nlargest(10)\n",
    "top_positions"
   ]
  },
  {
   "cell_type": "code",
   "execution_count": 34,
   "id": "8b5b29d0",
   "metadata": {},
   "outputs": [
    {
     "data": {
      "image/png": "[encoded data removed]",
      "text/plain": [
       "<Figure size 700x700 with 1 Axes>"
      ]
     },
     "metadata": {},
     "output_type": "display_data"
    }
   ],
   "source": [
    "plt.figure(figsize=(7,7))\n",
    "ax = sns.barplot(x=top_positions.values, y=top_positions.index, palette='twilight')\n",
    "ax.bar_label(ax.containers[0])\n",
    "ax.set_title('Most Common Positions among Respondents')\n",
    "plt.ylabel('Position')\n",
    "plt.show()"
   ]
  },
  {
   "cell_type": "code",
   "execution_count": 35,
   "id": "5b2229d3",
   "metadata": {},
   "outputs": [
    {
     "data": {
      "text/plain": [
       "array(['5', '7', '12', '4', '17', '6', '8', '15', '2', '25', nan, '14',\n",
       "       '11', '18', '13', '30', '10', '3', '40', '26', '23', '9', '19',\n",
       "       '20', '5.5', '22', '16', '0.8', '1', '1.5', '6.5', '21', '7.5',\n",
       "       '2.5', '28', '29', '1,5', '24', '0', '4.5', '27',\n",
       "       '1 (as QA Engineer) / 11 in total', '2,5', '15, thereof 8 as CTO',\n",
       "       '31', '6 (not as a data scientist, but as a lab scientist)', '383',\n",
       "       '3.5', 'less than year'], dtype=object)"
      ]
     },
     "execution_count": 35,
     "metadata": {},
     "output_type": "execute_result"
    }
   ],
   "source": [
    "df.Experience_Y.unique()"
   ]
  },
  {
   "cell_type": "code",
   "execution_count": 36,
   "id": "7c6ab578",
   "metadata": {},
   "outputs": [],
   "source": [
    "df.loc[df[df.Experience_Y =='1 (as QA Engineer) / 11 in total'].index, 'Experience_Y'] = 11\n",
    "df.loc[df[df.Experience_Y =='15, thereof 8 as CTO'].index, 'Experience_Y'] = 15\n",
    "df.loc[df[df.Experience_Y =='6 (not as a data scientist, but as a lab scientist)'].index, 'Experience_Y'] = 15\n",
    "df.loc[df[df.Experience_Y =='383'].index, 'Experience_Y'] = None\n",
    "df.loc[df[df.Experience_Y =='less than year'].index, 'Experience_Y'] = 0\n",
    "df.loc[df[df.Experience_Y =='2,5'].index, 'Experience_Y'] = 2.5\n",
    "df.loc[df[df.Experience_Y =='1,5'].index, 'Experience_Y'] = 1.5"
   ]
  },
  {
   "cell_type": "code",
   "execution_count": 37,
   "id": "6bc78af9",
   "metadata": {},
   "outputs": [
    {
     "data": {
      "text/plain": [
       "array(['5', '7', '12', '4', '17', '6', '8', '15', '2', '25', nan, '14',\n",
       "       '11', '18', '13', '30', '10', '3', '40', '26', '23', '9', '19',\n",
       "       '20', '5.5', '22', '16', '0.8', '1', '1.5', '6.5', '21', '7.5',\n",
       "       '2.5', '28', '29', 1.5, '24', '0', '4.5', '27', 11, 2.5, 15, '31',\n",
       "       None, '3.5', 0], dtype=object)"
      ]
     },
     "execution_count": 37,
     "metadata": {},
     "output_type": "execute_result"
    }
   ],
   "source": [
    "df.Experience_Y.unique()"
   ]
  },
  {
   "cell_type": "code",
   "execution_count": 38,
   "id": "055953a4",
   "metadata": {},
   "outputs": [
    {
     "data": {
      "text/plain": [
       "count     1220\n",
       "unique      46\n",
       "top         10\n",
       "freq       138\n",
       "Name: Experience_Y, dtype: object"
      ]
     },
     "execution_count": 38,
     "metadata": {},
     "output_type": "execute_result"
    }
   ],
   "source": [
    "df.Experience_Y.describe()"
   ]
  },
  {
   "cell_type": "code",
   "execution_count": 39,
   "id": "bafeb145",
   "metadata": {},
   "outputs": [],
   "source": [
    "df.Experience_Y = pd.to_numeric(df.Experience_Y).copy()"
   ]
  },
  {
   "cell_type": "code",
   "execution_count": 40,
   "id": "545ffa57",
   "metadata": {},
   "outputs": [
    {
     "data": {
      "image/png": "[encoded data removed]",
      "text/plain": [
       "<Figure size 640x480 with 1 Axes>"
      ]
     },
     "metadata": {},
     "output_type": "display_data"
    }
   ],
   "source": [
    "plt.figure()\n",
    "sns.histplot(data=df, x=df.Experience_Y).set_title('Respodents Experience Distribution')\n",
    "plt.xlabel('Years of Experience')\n",
    "plt.show()"
   ]
  },
  {
   "cell_type": "code",
   "execution_count": 41,
   "id": "334652a2",
   "metadata": {},
   "outputs": [
    {
     "data": {
      "image/png": "[encoded data removed]",
      "text/plain": [
       "<Figure size 640x480 with 1 Axes>"
      ]
     },
     "metadata": {},
     "output_type": "display_data"
    }
   ],
   "source": [
    "plt.figure()\n",
    "sns.violinplot(data=df[['Age', 'Experience_Y']], palette='twilight')\n",
    "plt.show()"
   ]
  },
  {
   "cell_type": "code",
   "execution_count": 42,
   "id": "039a17ea",
   "metadata": {},
   "outputs": [
    {
     "data": {
      "text/plain": [
       "array(['Senior', 'Lead', 'Junior', 'Middle', 'Head', nan, 'No level',\n",
       "       'VP', 'Manager', 'Work Center Manager', 'CTO', 'No level ',\n",
       "       'Director', 'Key', 'C-level executive manager', 'Principal',\n",
       "       'intern', 'Student', 'no idea, there are no ranges in the firm ',\n",
       "       'C-Level', 'Working Student', 'Entry level', 'Intern', 'student',\n",
       "       'Self employed'], dtype=object)"
      ]
     },
     "execution_count": 42,
     "metadata": {},
     "output_type": "execute_result"
    }
   ],
   "source": [
    "df.Seniority.unique()"
   ]
  },
  {
   "cell_type": "code",
   "execution_count": 43,
   "id": "b148d1a7",
   "metadata": {},
   "outputs": [],
   "source": [
    "df.loc[df[df.Seniority =='No level'].index, 'Seniority'] = None\n",
    "df.loc[df[df.Seniority =='No level '].index, 'Seniority'] = None\n",
    "df.loc[df[df.Seniority =='Key'].index, 'Seniority'] = None\n",
    "df.loc[df[df.Seniority =='Self employed'].index, 'Seniority'] = None\n",
    "df.loc[df[df.Seniority =='C-level executive manager'].index, 'Seniority'] = 'C-Level'\n",
    "df.loc[df[df.Seniority =='no idea, there are no ranges in the firm '].index, 'Seniority'] = None\n",
    "df.loc[df[df.Seniority =='Work Center Manager'].index, 'Seniority'] = 'Manager'\n",
    "df.loc[df[df.Seniority =='intern'].index, 'Seniority'] = 'Intern'\n",
    "df.loc[df[df.Seniority =='Working Student'].index, 'Seniority'] = 'Student'\n",
    "df.loc[df[df.Seniority =='student'].index, 'Seniority'] = 'Student'"
   ]
  },
  {
   "cell_type": "code",
   "execution_count": 44,
   "id": "d40b9fc5",
   "metadata": {},
   "outputs": [
    {
     "data": {
      "image/png": "[encoded data removed]",
      "text/plain": [
       "<Figure size 700x700 with 1 Axes>"
      ]
     },
     "metadata": {},
     "output_type": "display_data"
    }
   ],
   "source": [
    "plt.figure(figsize=(7,7))\n",
    "ax = sns.barplot(x=df.Seniority.value_counts().values, y=df.Seniority.value_counts().index, palette='twilight')\n",
    "ax.bar_label(ax.containers[0])\n",
    "ax.set_title('Seniority')\n",
    "plt.ylabel('Seniority')\n",
    "plt.show()"
   ]
  },
  {
   "cell_type": "code",
   "execution_count": 45,
   "id": "bbcc0c99",
   "metadata": {},
   "outputs": [],
   "source": [
    "df.Bruto_Salary = df.Bruto_Salary.astype(int).copy()"
   ]
  },
  {
   "cell_type": "code",
   "execution_count": 46,
   "id": "916aebc8",
   "metadata": {},
   "outputs": [
    {
     "data": {
      "text/plain": [
       "500000000"
      ]
     },
     "execution_count": 46,
     "metadata": {},
     "output_type": "execute_result"
    }
   ],
   "source": [
    "np.max(df.Bruto_Salary)"
   ]
  },
  {
   "cell_type": "code",
   "execution_count": 47,
   "id": "ecabaaf8",
   "metadata": {},
   "outputs": [
    {
     "data": {
      "text/plain": [
       "853     500000000\n",
       "778        850000\n",
       "576        300000\n",
       "630        250000\n",
       "804        240000\n",
       "          ...    \n",
       "770         11000\n",
       "366         10164\n",
       "982         10001\n",
       "883         10001\n",
       "473   -2147483648\n",
       "Name: Bruto_Salary, Length: 1237, dtype: int32"
      ]
     },
     "execution_count": 47,
     "metadata": {},
     "output_type": "execute_result"
    }
   ],
   "source": [
    "df.Bruto_Salary.sort_values(ascending=False)"
   ]
  },
  {
   "cell_type": "code",
   "execution_count": 48,
   "id": "f249051f",
   "metadata": {},
   "outputs": [
    {
     "data": {
      "text/html": [
       "<div>\n",
       "<style scoped>\n",
       "    .dataframe tbody tr th:only-of-type {\n",
       "        vertical-align: middle;\n",
       "    }\n",
       "\n",
       "    .dataframe tbody tr th {\n",
       "        vertical-align: top;\n",
       "    }\n",
       "\n",
       "    .dataframe thead th {\n",
       "        text-align: right;\n",
       "    }\n",
       "</style>\n",
       "<table border=\"1\" class=\"dataframe\">\n",
       "  <thead>\n",
       "    <tr style=\"text-align: right;\">\n",
       "      <th></th>\n",
       "      <th>Age</th>\n",
       "      <th>Gender</th>\n",
       "      <th>City</th>\n",
       "      <th>Position</th>\n",
       "      <th>Experience_Y</th>\n",
       "      <th>Seniority</th>\n",
       "      <th>Primary_Technology</th>\n",
       "      <th>Secondary_Technologies</th>\n",
       "      <th>Bruto_Salary</th>\n",
       "      <th>Bonus</th>\n",
       "      <th>Bruto_Salary_Last_Year</th>\n",
       "      <th>Bonus_Last_Year</th>\n",
       "      <th>Vacation</th>\n",
       "      <th>Employment_Status</th>\n",
       "      <th>Contract_Duration</th>\n",
       "      <th>Language</th>\n",
       "      <th>Company_Size</th>\n",
       "      <th>Company_Type</th>\n",
       "      <th>Lost_Job</th>\n",
       "    </tr>\n",
       "  </thead>\n",
       "  <tbody>\n",
       "  </tbody>\n",
       "</table>\n",
       "</div>"
      ],
      "text/plain": [
       "Empty DataFrame\n",
       "Columns: [Age, Gender, City, Position , Experience_Y, Seniority, Primary_Technology, Secondary_Technologies, Bruto_Salary, Bonus, Bruto_Salary_Last_Year, Bonus_Last_Year, Vacation, Employment_Status, Contract_Duration, Language, Company_Size, Company_Type, Lost_Job]\n",
       "Index: []"
      ]
     },
     "execution_count": 48,
     "metadata": {},
     "output_type": "execute_result"
    }
   ],
   "source": [
    "df[df.Bruto_Salary==99999999999]"
   ]
  },
  {
   "cell_type": "code",
   "execution_count": 49,
   "id": "5c4e0c51",
   "metadata": {},
   "outputs": [
    {
     "data": {
      "text/html": [
       "<div>\n",
       "<style scoped>\n",
       "    .dataframe tbody tr th:only-of-type {\n",
       "        vertical-align: middle;\n",
       "    }\n",
       "\n",
       "    .dataframe tbody tr th {\n",
       "        vertical-align: top;\n",
       "    }\n",
       "\n",
       "    .dataframe thead th {\n",
       "        text-align: right;\n",
       "    }\n",
       "</style>\n",
       "<table border=\"1\" class=\"dataframe\">\n",
       "  <thead>\n",
       "    <tr style=\"text-align: right;\">\n",
       "      <th></th>\n",
       "      <th>Age</th>\n",
       "      <th>Gender</th>\n",
       "      <th>City</th>\n",
       "      <th>Position</th>\n",
       "      <th>Experience_Y</th>\n",
       "      <th>Seniority</th>\n",
       "      <th>Primary_Technology</th>\n",
       "      <th>Secondary_Technologies</th>\n",
       "      <th>Bruto_Salary</th>\n",
       "      <th>Bonus</th>\n",
       "      <th>Bruto_Salary_Last_Year</th>\n",
       "      <th>Bonus_Last_Year</th>\n",
       "      <th>Vacation</th>\n",
       "      <th>Employment_Status</th>\n",
       "      <th>Contract_Duration</th>\n",
       "      <th>Language</th>\n",
       "      <th>Company_Size</th>\n",
       "      <th>Company_Type</th>\n",
       "      <th>Lost_Job</th>\n",
       "    </tr>\n",
       "  </thead>\n",
       "  <tbody>\n",
       "    <tr>\n",
       "      <th>853</th>\n",
       "      <td>29.0</td>\n",
       "      <td>Female</td>\n",
       "      <td>Cologne</td>\n",
       "      <td>ML Engineer</td>\n",
       "      <td>1.0</td>\n",
       "      <td>Middle</td>\n",
       "      <td>julia</td>\n",
       "      <td>NaN</td>\n",
       "      <td>500000000</td>\n",
       "      <td>5000000000</td>\n",
       "      <td>500000000.0</td>\n",
       "      <td>50000000</td>\n",
       "      <td>99</td>\n",
       "      <td>Full-time employee</td>\n",
       "      <td>Unlimited contract</td>\n",
       "      <td>English</td>\n",
       "      <td>up to 10</td>\n",
       "      <td>Startup</td>\n",
       "      <td>No</td>\n",
       "    </tr>\n",
       "  </tbody>\n",
       "</table>\n",
       "</div>"
      ],
      "text/plain": [
       "      Age  Gender     City    Position   Experience_Y Seniority  \\\n",
       "853  29.0  Female  Cologne  ML Engineer           1.0    Middle   \n",
       "\n",
       "    Primary_Technology Secondary_Technologies  Bruto_Salary       Bonus  \\\n",
       "853              julia                    NaN     500000000  5000000000   \n",
       "\n",
       "     Bruto_Salary_Last_Year Bonus_Last_Year Vacation   Employment_Status  \\\n",
       "853             500000000.0        50000000       99  Full-time employee   \n",
       "\n",
       "      Contract_Duration Language Company_Size Company_Type Lost_Job  \n",
       "853  Unlimited contract  English     up to 10      Startup       No  "
      ]
     },
     "execution_count": 49,
     "metadata": {},
     "output_type": "execute_result"
    }
   ],
   "source": [
    "df[df.Bruto_Salary==500000000]"
   ]
  },
  {
   "cell_type": "code",
   "execution_count": 50,
   "id": "34cfcecd",
   "metadata": {},
   "outputs": [
    {
     "data": {
      "text/html": [
       "<div>\n",
       "<style scoped>\n",
       "    .dataframe tbody tr th:only-of-type {\n",
       "        vertical-align: middle;\n",
       "    }\n",
       "\n",
       "    .dataframe tbody tr th {\n",
       "        vertical-align: top;\n",
       "    }\n",
       "\n",
       "    .dataframe thead th {\n",
       "        text-align: right;\n",
       "    }\n",
       "</style>\n",
       "<table border=\"1\" class=\"dataframe\">\n",
       "  <thead>\n",
       "    <tr style=\"text-align: right;\">\n",
       "      <th></th>\n",
       "      <th>Age</th>\n",
       "      <th>Gender</th>\n",
       "      <th>City</th>\n",
       "      <th>Position</th>\n",
       "      <th>Experience_Y</th>\n",
       "      <th>Seniority</th>\n",
       "      <th>Primary_Technology</th>\n",
       "      <th>Secondary_Technologies</th>\n",
       "      <th>Bruto_Salary</th>\n",
       "      <th>Bonus</th>\n",
       "      <th>Bruto_Salary_Last_Year</th>\n",
       "      <th>Bonus_Last_Year</th>\n",
       "      <th>Vacation</th>\n",
       "      <th>Employment_Status</th>\n",
       "      <th>Contract_Duration</th>\n",
       "      <th>Language</th>\n",
       "      <th>Company_Size</th>\n",
       "      <th>Company_Type</th>\n",
       "      <th>Lost_Job</th>\n",
       "    </tr>\n",
       "  </thead>\n",
       "  <tbody>\n",
       "    <tr>\n",
       "      <th>778</th>\n",
       "      <td>42.0</td>\n",
       "      <td>Male</td>\n",
       "      <td>Berlin</td>\n",
       "      <td>Frontend Developer</td>\n",
       "      <td>18.0</td>\n",
       "      <td>Senior</td>\n",
       "      <td>React JS</td>\n",
       "      <td>Javascript / Typescript</td>\n",
       "      <td>850000</td>\n",
       "      <td>95000</td>\n",
       "      <td>75000.0</td>\n",
       "      <td>82000</td>\n",
       "      <td>35</td>\n",
       "      <td>Full-time employee</td>\n",
       "      <td>Unlimited contract</td>\n",
       "      <td>English</td>\n",
       "      <td>101-1000</td>\n",
       "      <td>Product</td>\n",
       "      <td>Yes</td>\n",
       "    </tr>\n",
       "  </tbody>\n",
       "</table>\n",
       "</div>"
      ],
      "text/plain": [
       "      Age Gender    City           Position   Experience_Y Seniority  \\\n",
       "778  42.0   Male  Berlin  Frontend Developer          18.0    Senior   \n",
       "\n",
       "    Primary_Technology   Secondary_Technologies  Bruto_Salary  Bonus  \\\n",
       "778           React JS  Javascript / Typescript        850000  95000   \n",
       "\n",
       "     Bruto_Salary_Last_Year Bonus_Last_Year Vacation   Employment_Status  \\\n",
       "778                 75000.0           82000       35  Full-time employee   \n",
       "\n",
       "      Contract_Duration Language Company_Size Company_Type Lost_Job  \n",
       "778  Unlimited contract  English     101-1000      Product      Yes  "
      ]
     },
     "execution_count": 50,
     "metadata": {},
     "output_type": "execute_result"
    }
   ],
   "source": [
    "df[df.Bruto_Salary==850000]"
   ]
  },
  {
   "cell_type": "code",
   "execution_count": 51,
   "id": "9b5f4434",
   "metadata": {},
   "outputs": [],
   "source": [
    "df.loc[df[df.Bruto_Salary ==850000].index, 'Bruto_Salary'] = 85000 "
   ]
  },
  {
   "cell_type": "code",
   "execution_count": 52,
   "id": "6366624d",
   "metadata": {},
   "outputs": [],
   "source": [
    "df = df.drop(df[df.Bruto_Salary==99999999999].index).copy()\n",
    "df = df.drop(df[df.Bruto_Salary==500000000].index).copy()"
   ]
  },
  {
   "cell_type": "code",
   "execution_count": 228,
   "id": "419f39d2",
   "metadata": {},
   "outputs": [
    {
     "data": {
      "text/plain": [
       "array([      80000,      120000,       54000,       62000,       76000,\n",
       "             57000,       65000,       56000,       95000,       52500,\n",
       "            100000,       90000,       70000,       75000,       60350,\n",
       "             78000,       60000,      103000,       69000,       47400,\n",
       "             67000,       85000,       45000,       63000,      150000,\n",
       "             72000,      105000,       88000,       74000,       77000,\n",
       "             68000,       70500,       73500,       83000,      110000,\n",
       "             93000,       55000,       53000,       70200,       50000,\n",
       "             68500,       61000,       73000,       81000,       58000,\n",
       "             79000,       49000,       44000,       48000,       66000,\n",
       "             51000,       77500,       71060,       28000,       82000,\n",
       "             70800,       89200,      115000,      140000,       42000,\n",
       "             96000,       64000,       61500,       55200,       67200,\n",
       "             92500,       99000,       61200,       32000,      108000,\n",
       "             37500,       35000,       52000,       84000,      123600,\n",
       "             26400,       92000,       66800,       63500,       89570,\n",
       "            130000,       46000,       56400,       81200,       20000,\n",
       "             65400,       71000,       27000,       67500,       54500,\n",
       "             10164,       78500,       12000,       24000,       95500,\n",
       "             77600,       50400,       13000,       14712,       74400,\n",
       "             28800,       89000,       76900,       18700,      200000,\n",
       "             30000,       21120,       47500,       45600,       66300,\n",
       "             79300,       34000, -2147483648,       47000,      156000,\n",
       "            180000,       57600,       63700,      122000,       40800,\n",
       "             69200,       59000,      160000,       76500,       36000,\n",
       "            154000,      300000,       43000,       39000,       86000,\n",
       "             40000,       98000,      102000,       78600,      250000,\n",
       "             58800,       82500,       71750,       81900,       22000,\n",
       "             37000,      159000,       57760,       23000,      135000,\n",
       "             29000,       11000,       87000,      240000,       33000,\n",
       "            151872,       52800,       81500,       94000,       10001,\n",
       "             67473,       91000,       66500,       56700,       77250,\n",
       "             25000,      106000,       49200,       21000,       25300,\n",
       "             85600,      172000,       14400,       54179,       57750,\n",
       "            113000,       64800,       59064,       53500,       62400,\n",
       "             65600,       55500,       38000,      124000,       73700,\n",
       "             87550,       40700,       47745,       43500,       49850,\n",
       "             45500,       11500,       17500,       72500,       62500,\n",
       "             65900,      111111,      107000,       16320,       68250,\n",
       "             84700,       50500,      108500,       38350])"
      ]
     },
     "execution_count": 228,
     "metadata": {},
     "output_type": "execute_result"
    }
   ],
   "source": [
    "df.Bruto_Salary.unique()"
   ]
  },
  {
   "cell_type": "markdown",
   "id": "ae7d01c2",
   "metadata": {},
   "source": [
    "# Boxplot of Salary Distribution NEED TO CHECK ON THIS"
   ]
  },
  {
   "cell_type": "code",
   "execution_count": 230,
   "id": "f1ede877",
   "metadata": {},
   "outputs": [
    {
     "data": {
      "image/png": "[encoded data removed]",
      "text/plain": [
       "<Figure size 1200x1200 with 1 Axes>"
      ]
     },
     "metadata": {},
     "output_type": "display_data"
    }
   ],
   "source": [
    "import seaborn as sns\n",
    "import matplotlib.pyplot as plt\n",
    "\n",
    "plt.figure()\n",
    "sns.boxplot(x=df.Bruto_Salary, palette='plasma').set_title('Boxplot of Salary Distribution')\n",
    "plt.show()"
   ]
  },
  {
   "cell_type": "code",
   "execution_count": 61,
   "id": "d31da708",
   "metadata": {},
   "outputs": [
    {
     "data": {
      "text/plain": [
       "-1666452.504854369"
      ]
     },
     "execution_count": 61,
     "metadata": {},
     "output_type": "execute_result"
    }
   ],
   "source": [
    "np.mean(df.Bruto_Salary)"
   ]
  },
  {
   "cell_type": "code",
   "execution_count": 57,
   "id": "c71235a3",
   "metadata": {},
   "outputs": [
    {
     "data": {
      "image/png": "[encoded data removed]",
      "text/plain": [
       "<Figure size 640x480 with 1 Axes>"
      ]
     },
     "metadata": {},
     "output_type": "display_data"
    }
   ],
   "source": [
    "plt.figure()\n",
    "sns.histplot(data=df, x=df.Bruto_Salary).set_title('Salary Distribution')\n",
    "plt.xlabel('Bruto Salary in EUR')\n",
    "plt.show()"
   ]
  },
  {
   "cell_type": "code",
   "execution_count": 148,
   "id": "58b842a6",
   "metadata": {},
   "outputs": [
    {
     "data": {
      "text/plain": [
       "array(['5000', nan, '120000', '101', '40000', '9400', '2000', '80000',\n",
       "       '4000', '10000', '1000', '7000', '12000', '1500', '35200', '15000',\n",
       "       '8000', '72000', '30000', '75000', '73000', '3000', '5800',\n",
       "       '56000', '6300', '6000', '20000', '62000', '22000', '7500',\n",
       "       '67000', '7750', '8500', '70000', '17800', '25000', '26000',\n",
       "       '10300', '6900', '95000', '4700', '18000', '140000', '22500',\n",
       "       '112000', '7300', '77000', '17000', '32000', '12150', '60000',\n",
       "       '200000', '3500', '0', '500', '63500', '20240', '81200', '11000',\n",
       "       '6500', '46000', '400', '122.13', '5600', '4500', '5400', '14500',\n",
       "       '43500', '50400', '800', '88000', '28800', '65000', '86000',\n",
       "       '77400', '12', '74000', '19200', '3520', '96000', '47500', '45600',\n",
       "       '9000', '55000', '11900', 'bvg only', '150000', '13500', '50000',\n",
       "       '1600', '5500', '45000', '3400', '38500', '2400', '1150000',\n",
       "       '4300', '85000', '59000', '100000', '63909', '99000', '70500',\n",
       "       '450000', '20700', '78000', '4250', '89000', '102600', '7100',\n",
       "       '3375', 'depends', '35000', '6710', '23000', '3600', '97000',\n",
       "       '1100', '15000+-', '90000', '37968', '4400', '66500', '84000',\n",
       "       '15900', '21000', '87250', '71000', '106000', '43000', '14000',\n",
       "       '2500', 'Na', '13000', '60847.32', '3250', '54000', '58000',\n",
       "       '170000', '82000', '9450', '66447', '53500', '82500', '36000',\n",
       "       '2800', '107000', '12500', '-', '125000', '80400', '7200', '3800',\n",
       "       '28000', '31500', '63000', '25', '45500', '92000', '1200', '1250',\n",
       "       'Not sure', '16000', '110000', '700', '16320', '105000', '40950'],\n",
       "      dtype=object)"
      ]
     },
     "execution_count": 148,
     "metadata": {},
     "output_type": "execute_result"
    }
   ],
   "source": [
    "df.Bonus.unique()"
   ]
  },
  {
   "cell_type": "code",
   "execution_count": 149,
   "id": "907bdcdd",
   "metadata": {},
   "outputs": [],
   "source": [
    "df.loc[df[df.Bonus =='0'].index, 'Bonus'] = None\n",
    "df.loc[df[df.Bonus =='Not sure'].index, 'Bonus'] = None\n",
    "df.loc[df[df.Bonus =='depends'].index, 'Bonus'] = None\n",
    "df.loc[df[df.Bonus =='-'].index, 'Bonus'] = None\n",
    "df.loc[df[df.Bonus =='Na'].index, 'Bonus'] = None\n",
    "df.loc[df[df.Bonus =='bvg only'].index, 'Bonus'] = None\n",
    "df.loc[df[df.Bonus =='15000+-'].index, 'Bonus'] = '15000'\n",
    "df.loc[df[df.Bonus =='60847.32'].index, 'Bonus'] = '60847'\n",
    "df.loc[df[df.Bonus =='122.13'].index, 'Bonus'] = '122'"
   ]
  },
  {
   "cell_type": "code",
   "execution_count": 150,
   "id": "2b9fe32a",
   "metadata": {},
   "outputs": [],
   "source": [
    "df.Bonus.fillna(0, inplace=True)\n",
    "df.Bonus = df.Bonus.astype(int).copy()"
   ]
  },
  {
   "cell_type": "code",
   "execution_count": 151,
   "id": "3eb4b500",
   "metadata": {},
   "outputs": [
    {
     "data": {
      "text/plain": [
       "279     200000\n",
       "441     200000\n",
       "745     200000\n",
       "630     450000\n",
       "564    1150000\n",
       "Name: Bonus, dtype: int32"
      ]
     },
     "execution_count": 151,
     "metadata": {},
     "output_type": "execute_result"
    }
   ],
   "source": [
    "df.Bonus.sort_values().tail()"
   ]
  },
  {
   "cell_type": "code",
   "execution_count": 152,
   "id": "e0d8968a",
   "metadata": {},
   "outputs": [
    {
     "data": {
      "text/html": [
       "<div>\n",
       "<style scoped>\n",
       "    .dataframe tbody tr th:only-of-type {\n",
       "        vertical-align: middle;\n",
       "    }\n",
       "\n",
       "    .dataframe tbody tr th {\n",
       "        vertical-align: top;\n",
       "    }\n",
       "\n",
       "    .dataframe thead th {\n",
       "        text-align: right;\n",
       "    }\n",
       "</style>\n",
       "<table border=\"1\" class=\"dataframe\">\n",
       "  <thead>\n",
       "    <tr style=\"text-align: right;\">\n",
       "      <th></th>\n",
       "      <th>Age</th>\n",
       "      <th>Gender</th>\n",
       "      <th>City</th>\n",
       "      <th>Position</th>\n",
       "      <th>Experience_Y</th>\n",
       "      <th>Seniority</th>\n",
       "      <th>Primary_Technology</th>\n",
       "      <th>Secondary_Technologies</th>\n",
       "      <th>Bruto_Salary</th>\n",
       "      <th>Bonus</th>\n",
       "      <th>Bruto_Salary_Last_Year</th>\n",
       "      <th>Bonus_Last_Year</th>\n",
       "      <th>Vacation</th>\n",
       "      <th>Employment_Status</th>\n",
       "      <th>Contract_Duration</th>\n",
       "      <th>Language</th>\n",
       "      <th>Company_Size</th>\n",
       "      <th>Company_Type</th>\n",
       "      <th>Lost_Job</th>\n",
       "    </tr>\n",
       "  </thead>\n",
       "  <tbody>\n",
       "    <tr>\n",
       "      <th>564</th>\n",
       "      <td>30.0</td>\n",
       "      <td>Male</td>\n",
       "      <td>Berlin</td>\n",
       "      <td>Data Engineer</td>\n",
       "      <td>5.0</td>\n",
       "      <td>Lead</td>\n",
       "      <td>NaN</td>\n",
       "      <td>Python</td>\n",
       "      <td>90000</td>\n",
       "      <td>1150000</td>\n",
       "      <td>75000.0</td>\n",
       "      <td>98000</td>\n",
       "      <td>26</td>\n",
       "      <td>Full-time employee</td>\n",
       "      <td>Unlimited contract</td>\n",
       "      <td>English</td>\n",
       "      <td>1000+</td>\n",
       "      <td>Product</td>\n",
       "      <td>No</td>\n",
       "    </tr>\n",
       "  </tbody>\n",
       "</table>\n",
       "</div>"
      ],
      "text/plain": [
       "      Age Gender    City      Position   Experience_Y Seniority  \\\n",
       "564  30.0   Male  Berlin  Data Engineer           5.0      Lead   \n",
       "\n",
       "    Primary_Technology Secondary_Technologies  Bruto_Salary    Bonus  \\\n",
       "564                NaN                 Python         90000  1150000   \n",
       "\n",
       "     Bruto_Salary_Last_Year Bonus_Last_Year Vacation   Employment_Status  \\\n",
       "564                 75000.0           98000       26  Full-time employee   \n",
       "\n",
       "      Contract_Duration Language Company_Size Company_Type Lost_Job  \n",
       "564  Unlimited contract  English        1000+      Product       No  "
      ]
     },
     "execution_count": 152,
     "metadata": {},
     "output_type": "execute_result"
    }
   ],
   "source": [
    "df[df.Bonus==1150000]"
   ]
  },
  {
   "cell_type": "code",
   "execution_count": 153,
   "id": "0d199f40",
   "metadata": {},
   "outputs": [],
   "source": [
    "df.loc[df[df.Bonus ==1150000].index, 'Bonus'] = 0"
   ]
  },
  {
   "cell_type": "code",
   "execution_count": 154,
   "id": "6221ef02",
   "metadata": {},
   "outputs": [
    {
     "data": {
      "image/png": "[encoded data removed]",
      "text/plain": [
       "<Figure size 640x480 with 1 Axes>"
      ]
     },
     "metadata": {},
     "output_type": "display_data"
    }
   ],
   "source": [
    "plt.figure()\n",
    "sns.histplot(data=df[df.Bonus!=0], x=df[df.Bonus!=0].Bonus).set_title('Bonus Distribution')\n",
    "plt.xlabel('Bonus/Stocks in EUR')\n",
    "plt.show()"
   ]
  },
  {
   "cell_type": "code",
   "execution_count": 155,
   "id": "838bbe91",
   "metadata": {},
   "outputs": [
    {
     "data": {
      "text/plain": [
       "13289.161003236246"
      ]
     },
     "execution_count": 155,
     "metadata": {},
     "output_type": "execute_result"
    }
   ],
   "source": [
    "np.mean(df.Bonus)"
   ]
  },
  {
   "cell_type": "code",
   "execution_count": 156,
   "id": "50e80ee9",
   "metadata": {},
   "outputs": [
    {
     "data": {
      "text/plain": [
       "array([ 75000.,  82000., 100000.,     nan,  62000.,  76000.,  65000.,\n",
       "        55000.,  90000.,  52500.,  80000.,  66000.,  58000.,  92000.,\n",
       "        69000.,  63000.,  44000.,  78000.,  81000.,  37000.,  72000.,\n",
       "        96000.,  54000.,  52000.,  60000.,  68000.,  50000.,  56000.,\n",
       "        70000.,  85000.,  93000.,  42000.,  53000.,  79000.,  62400.,\n",
       "        73000.,  45000.,  61000.,  72500.,  77000., 110000.,  36000.,\n",
       "        67000.,  68500.,  67500.,  57000., 115000.,  88000., 132000.,\n",
       "       105000.,  57600.,  56500.,  48000.,  47000.,  97000.,  98000.,\n",
       "        53300.,  21800., 108000.,  74000.,  80600., 120000.,  64000.,\n",
       "        82240.,  43000.,  56400.,  17000.,  46000.,  43200.,  59000.,\n",
       "        54500.,  78500.,  61500.,  70400.,  20000.,  94000., 125000.,\n",
       "        14712.,  28800.,  27000.,  89000.,  26000.,  40000.,  86000.,\n",
       "        16000.,  16560.,  61400.,  41000.,  39000.,  18000.,  30000.,\n",
       "        84000., 156000.,  69300., 130000., 104000., 118000.,  67100.,\n",
       "       160000.,  35000.,  28000.,  31000.,  61200.,  50400.,  73500.,\n",
       "        78600., 230000., 760000.,  82600.,  12000.,  95000.,  71000.,\n",
       "        11000.,  32000.,  23000.,  33000., 190000.,  47500.,  38000.,\n",
       "        63500.,  91000., 102000.,  83200.,  25000.,  45600.,  44500.,\n",
       "        19000.,  25300., 169000.,  58040., 200000., 140000.,  87000.,\n",
       "        58800.,  51000.,  62500.,  47745.,  34000.,  15000.,  99000.,\n",
       "        37500.,  59500.,  70200.,  51200.,  83000.,  49000.,  33800.])"
      ]
     },
     "execution_count": 156,
     "metadata": {},
     "output_type": "execute_result"
    }
   ],
   "source": [
    "df.Bruto_Salary_Last_Year.unique()"
   ]
  },
  {
   "cell_type": "code",
   "execution_count": 157,
   "id": "6c1f6cba",
   "metadata": {},
   "outputs": [],
   "source": [
    "df.Bruto_Salary_Last_Year.fillna(0, inplace=True)\n",
    "df.Bruto_Salary_Last_Year = df.Bruto_Salary_Last_Year.astype(int).copy()"
   ]
  },
  {
   "cell_type": "code",
   "execution_count": 158,
   "id": "28555512",
   "metadata": {},
   "outputs": [
    {
     "data": {
      "text/plain": [
       "837     190000\n",
       "1223    200000\n",
       "966     200000\n",
       "630     230000\n",
       "658     760000\n",
       "Name: Bruto_Salary_Last_Year, dtype: int32"
      ]
     },
     "execution_count": 158,
     "metadata": {},
     "output_type": "execute_result"
    }
   ],
   "source": [
    "df.Bruto_Salary_Last_Year.sort_values().tail()"
   ]
  },
  {
   "cell_type": "code",
   "execution_count": 159,
   "id": "3fe0641b",
   "metadata": {},
   "outputs": [
    {
     "data": {
      "text/html": [
       "<div>\n",
       "<style scoped>\n",
       "    .dataframe tbody tr th:only-of-type {\n",
       "        vertical-align: middle;\n",
       "    }\n",
       "\n",
       "    .dataframe tbody tr th {\n",
       "        vertical-align: top;\n",
       "    }\n",
       "\n",
       "    .dataframe thead th {\n",
       "        text-align: right;\n",
       "    }\n",
       "</style>\n",
       "<table border=\"1\" class=\"dataframe\">\n",
       "  <thead>\n",
       "    <tr style=\"text-align: right;\">\n",
       "      <th></th>\n",
       "      <th>Age</th>\n",
       "      <th>Gender</th>\n",
       "      <th>City</th>\n",
       "      <th>Position</th>\n",
       "      <th>Experience_Y</th>\n",
       "      <th>Seniority</th>\n",
       "      <th>Primary_Technology</th>\n",
       "      <th>Secondary_Technologies</th>\n",
       "      <th>Bruto_Salary</th>\n",
       "      <th>Bonus</th>\n",
       "      <th>Bruto_Salary_Last_Year</th>\n",
       "      <th>Bonus_Last_Year</th>\n",
       "      <th>Vacation</th>\n",
       "      <th>Employment_Status</th>\n",
       "      <th>Contract_Duration</th>\n",
       "      <th>Language</th>\n",
       "      <th>Company_Size</th>\n",
       "      <th>Company_Type</th>\n",
       "      <th>Lost_Job</th>\n",
       "    </tr>\n",
       "  </thead>\n",
       "  <tbody>\n",
       "    <tr>\n",
       "      <th>658</th>\n",
       "      <td>31.0</td>\n",
       "      <td>Male</td>\n",
       "      <td>Berlin</td>\n",
       "      <td>Product Manager</td>\n",
       "      <td>5.0</td>\n",
       "      <td>Lead</td>\n",
       "      <td>NaN</td>\n",
       "      <td>NaN</td>\n",
       "      <td>76000</td>\n",
       "      <td>20000</td>\n",
       "      <td>760000</td>\n",
       "      <td>20000</td>\n",
       "      <td>28</td>\n",
       "      <td>Full-time employee</td>\n",
       "      <td>Unlimited contract</td>\n",
       "      <td>English</td>\n",
       "      <td>51-100</td>\n",
       "      <td>Startup</td>\n",
       "      <td>No</td>\n",
       "    </tr>\n",
       "  </tbody>\n",
       "</table>\n",
       "</div>"
      ],
      "text/plain": [
       "      Age Gender    City        Position   Experience_Y Seniority  \\\n",
       "658  31.0   Male  Berlin  Product Manager           5.0      Lead   \n",
       "\n",
       "    Primary_Technology Secondary_Technologies  Bruto_Salary  Bonus  \\\n",
       "658                NaN                    NaN         76000  20000   \n",
       "\n",
       "     Bruto_Salary_Last_Year Bonus_Last_Year Vacation   Employment_Status  \\\n",
       "658                  760000           20000       28  Full-time employee   \n",
       "\n",
       "      Contract_Duration Language Company_Size Company_Type Lost_Job  \n",
       "658  Unlimited contract  English       51-100      Startup       No  "
      ]
     },
     "execution_count": 159,
     "metadata": {},
     "output_type": "execute_result"
    }
   ],
   "source": [
    "df[df.Bruto_Salary_Last_Year==760000]"
   ]
  },
  {
   "cell_type": "code",
   "execution_count": 160,
   "id": "337933e0",
   "metadata": {},
   "outputs": [],
   "source": [
    "df.loc[df[df.Bruto_Salary_Last_Year==760000].index, 'Bruto_Salary_Last_Year'] = 76000"
   ]
  },
  {
   "cell_type": "code",
   "execution_count": 161,
   "id": "8e631257",
   "metadata": {},
   "outputs": [
    {
     "data": {
      "image/png": "[encoded data removed]",
      "text/plain": [
       "<Figure size 640x480 with 1 Axes>"
      ]
     },
     "metadata": {},
     "output_type": "display_data"
    }
   ],
   "source": [
    "plt.figure()\n",
    "sns.histplot(data=df[df.Bruto_Salary_Last_Year!=0], x=df[df.Bruto_Salary_Last_Year!=0].Bruto_Salary_Last_Year).set_title('Last Year Salary Distribution')\n",
    "plt.xlabel('Last Year Salary in EUR')\n",
    "plt.show()"
   ]
  },
  {
   "cell_type": "code",
   "execution_count": 162,
   "id": "88fa81a2",
   "metadata": {},
   "outputs": [
    {
     "data": {
      "text/plain": [
       "array(['10000', '5000', '100000', nan, '13000', '2000', '500', '75000',\n",
       "       '7000', '1000', '4000', '3500', '20000', '54000', '15000', '85000',\n",
       "       '60000', '11000', '2500', '63000', '122000', '50000', '8000',\n",
       "       '101', '30000', '300', '33000', '6000', '1500', '3000', '65000',\n",
       "       '6800', '58000', '70000', '8500', '61000', '25000', '77000',\n",
       "       '5400', '6300', '49000', '68000', '6200', '17000', '52000',\n",
       "       '200000', '0', '850', '18000', '55000', '1800', '57000', '46000',\n",
       "       '48000', '45000', '7500', '18800', '67000', '78000', '28800',\n",
       "       '56000', '74800', '40000', '115000', '16300', '2760', '82000',\n",
       "       '39000', '100', '4800', '80000', 'learning budget, bvg, gym, food',\n",
       "       '12000', '92000', '120000', '64000', '5500', '600', '98000',\n",
       "       '31000', '67200', '59000', '50400', '89000', '800', '300000',\n",
       "       '2004', '87000', '9000', '84000', '22000', '76000', '6900',\n",
       "       '66000', '23000', '75009', '35000', '2600', '3900', '8100',\n",
       "       '86000', '72000', '700', '47000', '41000', '14000', '42000',\n",
       "       '90000', '7050', '55200', '9500', '62000', '36000', '28500',\n",
       "       '73000', '12500', '-', '94000', '53000', '3800', '22500', '31500',\n",
       "       '34000', '3300', '37500', '1100', '7200', '180000', '16000',\n",
       "       '105000', '36400'], dtype=object)"
      ]
     },
     "execution_count": 162,
     "metadata": {},
     "output_type": "execute_result"
    }
   ],
   "source": [
    "df.Bonus_Last_Year.unique()"
   ]
  },
  {
   "cell_type": "code",
   "execution_count": 74,
   "id": "70c9722d",
   "metadata": {},
   "outputs": [],
   "source": [
    "df.loc[df[df.Bonus_Last_Year =='learning budget, bvg, gym, food'].index, 'Bonus_Last_Year'] = 0\n",
    "df.loc[df[df.Bonus_Last_Year =='-'].index, 'Bonus_Last_Year'] = 0"
   ]
  },
  {
   "cell_type": "code",
   "execution_count": 231,
   "id": "693f850a",
   "metadata": {},
   "outputs": [],
   "source": [
    "df.Bonus_Last_Year.fillna(0, inplace=True)\n",
    "df.Bonus_Last_Year = df.Bonus_Last_Year.astype(int).copy()"
   ]
  },
  {
   "cell_type": "code",
   "execution_count": 232,
   "id": "cbb1f791",
   "metadata": {},
   "outputs": [
    {
     "data": {
      "text/plain": [
       "83      122000\n",
       "1186    180000\n",
       "966     200000\n",
       "279     200000\n",
       "630     300000\n",
       "Name: Bonus_Last_Year, dtype: int32"
      ]
     },
     "execution_count": 232,
     "metadata": {},
     "output_type": "execute_result"
    }
   ],
   "source": [
    "df.Bonus_Last_Year.sort_values().tail()"
   ]
  },
  {
   "cell_type": "code",
   "execution_count": 233,
   "id": "2f5dca4b",
   "metadata": {},
   "outputs": [
    {
     "data": {
      "text/html": [
       "<div>\n",
       "<style scoped>\n",
       "    .dataframe tbody tr th:only-of-type {\n",
       "        vertical-align: middle;\n",
       "    }\n",
       "\n",
       "    .dataframe tbody tr th {\n",
       "        vertical-align: top;\n",
       "    }\n",
       "\n",
       "    .dataframe thead th {\n",
       "        text-align: right;\n",
       "    }\n",
       "</style>\n",
       "<table border=\"1\" class=\"dataframe\">\n",
       "  <thead>\n",
       "    <tr style=\"text-align: right;\">\n",
       "      <th></th>\n",
       "      <th>Age</th>\n",
       "      <th>Gender</th>\n",
       "      <th>City</th>\n",
       "      <th>Position</th>\n",
       "      <th>Experience_Y</th>\n",
       "      <th>Seniority</th>\n",
       "      <th>Bruto_Salary</th>\n",
       "      <th>Bonus</th>\n",
       "      <th>Bruto_Salary_Last_Year</th>\n",
       "      <th>Bonus_Last_Year</th>\n",
       "      <th>Vacation</th>\n",
       "      <th>Employment_Status</th>\n",
       "      <th>Company_Type</th>\n",
       "    </tr>\n",
       "  </thead>\n",
       "  <tbody>\n",
       "    <tr>\n",
       "      <th>630</th>\n",
       "      <td>40.0</td>\n",
       "      <td>Male</td>\n",
       "      <td>Cupertino</td>\n",
       "      <td>Software Engineer</td>\n",
       "      <td>20.0</td>\n",
       "      <td>Lead</td>\n",
       "      <td>250000</td>\n",
       "      <td>450000</td>\n",
       "      <td>230000.0</td>\n",
       "      <td>300000</td>\n",
       "      <td>45</td>\n",
       "      <td>Full-time employee</td>\n",
       "      <td>Product</td>\n",
       "    </tr>\n",
       "  </tbody>\n",
       "</table>\n",
       "</div>"
      ],
      "text/plain": [
       "      Age Gender       City          Position   Experience_Y Seniority  \\\n",
       "630  40.0   Male  Cupertino  Software Engineer          20.0      Lead   \n",
       "\n",
       "     Bruto_Salary   Bonus  Bruto_Salary_Last_Year  Bonus_Last_Year Vacation  \\\n",
       "630        250000  450000                230000.0           300000       45   \n",
       "\n",
       "      Employment_Status Company_Type  \n",
       "630  Full-time employee      Product  "
      ]
     },
     "execution_count": 233,
     "metadata": {},
     "output_type": "execute_result"
    }
   ],
   "source": [
    "df[df.Bonus_Last_Year==300000]"
   ]
  },
  {
   "cell_type": "code",
   "execution_count": 234,
   "id": "ecac04ae",
   "metadata": {},
   "outputs": [],
   "source": [
    "df.drop(df[df.Bonus_Last_Year==300000].index, inplace=True)"
   ]
  },
  {
   "cell_type": "code",
   "execution_count": 235,
   "id": "d41a20db",
   "metadata": {},
   "outputs": [
    {
     "data": {
      "image/png": "[encoded data removed]",
      "text/plain": [
       "<Figure size 1200x1200 with 1 Axes>"
      ]
     },
     "metadata": {},
     "output_type": "display_data"
    }
   ],
   "source": [
    "plt.figure()\n",
    "sns.histplot(data=df[df.Bonus_Last_Year!=0], x=df[df.Bonus_Last_Year!=0].Bonus_Last_Year).set_title(\"Last Year's Bonus Distribution\")\n",
    "ax.bar_label(ax.containers[0])\n",
    "plt.xlabel('Last Year Bonus/Stocks in EUR')\n",
    "plt.show()"
   ]
  },
  {
   "cell_type": "markdown",
   "id": "57dca6fa",
   "metadata": {},
   "source": [
    "# Correlation"
   ]
  },
  {
   "cell_type": "code",
   "execution_count": 240,
   "id": "376665fc",
   "metadata": {},
   "outputs": [],
   "source": [
    "columns_of_interest = ['Age', 'Experience_Y', 'Bruto_Salary', 'Bonus', 'Bruto_Salary_Last_Year', 'Bonus_Last_Year']"
   ]
  },
  {
   "cell_type": "code",
   "execution_count": 241,
   "id": "0c8eb8fd",
   "metadata": {},
   "outputs": [
    {
     "name": "stdout",
     "output_type": "stream",
     "text": [
      "                             Age  Experience_Y  Bruto_Salary     Bonus  \\\n",
      "Age                     1.000000      0.745980      0.284586  0.046191   \n",
      "Experience_Y            0.745980      1.000000      0.397778  0.042407   \n",
      "Bruto_Salary            0.284586      0.397778      1.000000  0.228527   \n",
      "Bonus                   0.046191      0.042407      0.228527  1.000000   \n",
      "Bruto_Salary_Last_Year  0.195637      0.245957      0.564112  0.103718   \n",
      "Bonus_Last_Year         0.101923      0.086793      0.282186  0.528316   \n",
      "\n",
      "                        Bruto_Salary_Last_Year  Bonus_Last_Year  \n",
      "Age                                   0.195637         0.101923  \n",
      "Experience_Y                          0.245957         0.086793  \n",
      "Bruto_Salary                          0.564112         0.282186  \n",
      "Bonus                                 0.103718         0.528316  \n",
      "Bruto_Salary_Last_Year                1.000000         0.165078  \n",
      "Bonus_Last_Year                       0.165078         1.000000  \n"
     ]
    }
   ],
   "source": [
    "import pandas as pd\n",
    "\n",
    "# Create a copy of the DataFrame with only the selected columns\n",
    "df_sub = df[columns_of_interest].copy()\n",
    "\n",
    "# Convert non-numeric values to NaN\n",
    "df_sub = df_sub.apply(pd.to_numeric, errors='coerce')\n",
    "\n",
    "# Compute the correlation matrix\n",
    "corr = df_sub.dropna().corr()\n",
    "print(corr)\n"
   ]
  },
  {
   "cell_type": "code",
   "execution_count": 242,
   "id": "fd2677f4",
   "metadata": {},
   "outputs": [
    {
     "data": {
      "image/png": "[encoded data removed]",
      "text/plain": [
       "<Figure size 1200x1200 with 2 Axes>"
      ]
     },
     "metadata": {},
     "output_type": "display_data"
    }
   ],
   "source": [
    "plt.figure()\n",
    "sns.heatmap(corr, annot=True)\n",
    "plt.show()"
   ]
  },
  {
   "cell_type": "markdown",
   "id": "d6b19bbf",
   "metadata": {},
   "source": [
    "# Looking at the correlation interesting findings are observed:\n",
    "\n",
    "1. Age is correlated with Years of Experience and slightly with Bonus\n",
    "2. Years of Experience is correlated with Bonus and Last Year Bonus\n",
    "3. It is interesting that Salaries are not that correlated with the other variables"
   ]
  },
  {
   "cell_type": "markdown",
   "id": "1e875780",
   "metadata": {},
   "source": [
    "# Asking and Answering Questions"
   ]
  },
  {
   "cell_type": "markdown",
   "id": "f0e4cfbf",
   "metadata": {},
   "source": [
    "1. Q: What are the most paid positions?"
   ]
  },
  {
   "cell_type": "code",
   "execution_count": 243,
   "id": "5b49310d",
   "metadata": {},
   "outputs": [],
   "source": [
    "top_paid_positions = df.groupby('Position ').Bruto_Salary.mean().nlargest(10)"
   ]
  },
  {
   "cell_type": "code",
   "execution_count": 244,
   "id": "591b99b0",
   "metadata": {},
   "outputs": [
    {
     "data": {
      "image/png": "[encoded data removed]",
      "text/plain": [
       "<Figure size 1200x1200 with 1 Axes>"
      ]
     },
     "metadata": {},
     "output_type": "display_data"
    }
   ],
   "source": [
    "plt.figure()\n",
    "ax = sns.barplot(x=top_paid_positions.values, y=top_paid_positions.index, palette='twilight')\n",
    "ax.bar_label(ax.containers[0])\n",
    "ax.set_title('Top Paid Positions')\n",
    "plt.ylabel('Position')\n",
    "plt.xlabel('Salary')\n",
    "plt.show()"
   ]
  },
  {
   "cell_type": "markdown",
   "id": "3072a1ec",
   "metadata": {},
   "source": [
    "2. Q: What is the average experience per seniority?"
   ]
  },
  {
   "cell_type": "code",
   "execution_count": 247,
   "id": "3f582ca8",
   "metadata": {},
   "outputs": [],
   "source": [
    "average_experience = df.groupby('Seniority').Experience_Y.mean().sort_values()"
   ]
  },
  {
   "cell_type": "code",
   "execution_count": 246,
   "id": "cdc9b48e",
   "metadata": {},
   "outputs": [
    {
     "data": {
      "image/png": "[encoded data removed]",
      "text/plain": [
       "<Figure size 1200x1200 with 1 Axes>"
      ]
     },
     "metadata": {},
     "output_type": "display_data"
    }
   ],
   "source": [
    "plt.figure()\n",
    "ax = sns.barplot(x=average_experience.values, y=average_experience.index, palette='twilight')\n",
    "ax.bar_label(ax.containers[0])\n",
    "ax.set_title('Average Experience per Seniority')\n",
    "plt.ylabel('Seniority')\n",
    "plt.xlabel('Years of Eperience')\n",
    "plt.show()"
   ]
  },
  {
   "cell_type": "markdown",
   "id": "6102f287",
   "metadata": {},
   "source": [
    "# Analysis"
   ]
  },
  {
   "cell_type": "code",
   "execution_count": 172,
   "id": "633ffdc3",
   "metadata": {},
   "outputs": [],
   "source": [
    "X = df.drop(['Position '], axis=1)\n",
    "Y = df['Bruto_Salary']"
   ]
  },
  {
   "cell_type": "code",
   "execution_count": 173,
   "id": "f4900548",
   "metadata": {},
   "outputs": [
    {
     "data": {
      "text/html": [
       "<div>\n",
       "<style scoped>\n",
       "    .dataframe tbody tr th:only-of-type {\n",
       "        vertical-align: middle;\n",
       "    }\n",
       "\n",
       "    .dataframe tbody tr th {\n",
       "        vertical-align: top;\n",
       "    }\n",
       "\n",
       "    .dataframe thead th {\n",
       "        text-align: right;\n",
       "    }\n",
       "</style>\n",
       "<table border=\"1\" class=\"dataframe\">\n",
       "  <thead>\n",
       "    <tr style=\"text-align: right;\">\n",
       "      <th></th>\n",
       "      <th>Age</th>\n",
       "      <th>Gender</th>\n",
       "      <th>City</th>\n",
       "      <th>Experience_Y</th>\n",
       "      <th>Seniority</th>\n",
       "      <th>Primary_Technology</th>\n",
       "      <th>Secondary_Technologies</th>\n",
       "      <th>Bruto_Salary</th>\n",
       "      <th>Bonus</th>\n",
       "      <th>Bruto_Salary_Last_Year</th>\n",
       "      <th>Bonus_Last_Year</th>\n",
       "      <th>Vacation</th>\n",
       "      <th>Employment_Status</th>\n",
       "      <th>Contract_Duration</th>\n",
       "      <th>Language</th>\n",
       "      <th>Company_Size</th>\n",
       "      <th>Company_Type</th>\n",
       "      <th>Lost_Job</th>\n",
       "    </tr>\n",
       "  </thead>\n",
       "  <tbody>\n",
       "    <tr>\n",
       "      <th>0</th>\n",
       "      <td>26.0</td>\n",
       "      <td>Male</td>\n",
       "      <td>Munich</td>\n",
       "      <td>5.0</td>\n",
       "      <td>Senior</td>\n",
       "      <td>TypeScript</td>\n",
       "      <td>Kotlin, Javascript / Typescript</td>\n",
       "      <td>80000</td>\n",
       "      <td>5000</td>\n",
       "      <td>75000.0</td>\n",
       "      <td>10000</td>\n",
       "      <td>30</td>\n",
       "      <td>Full-time employee</td>\n",
       "      <td>Unlimited contract</td>\n",
       "      <td>English</td>\n",
       "      <td>51-100</td>\n",
       "      <td>Product</td>\n",
       "      <td>No</td>\n",
       "    </tr>\n",
       "    <tr>\n",
       "      <th>1</th>\n",
       "      <td>26.0</td>\n",
       "      <td>Male</td>\n",
       "      <td>Berlin</td>\n",
       "      <td>7.0</td>\n",
       "      <td>Senior</td>\n",
       "      <td>Ruby</td>\n",
       "      <td>NaN</td>\n",
       "      <td>80000</td>\n",
       "      <td>NaN</td>\n",
       "      <td>82000.0</td>\n",
       "      <td>5000</td>\n",
       "      <td>28</td>\n",
       "      <td>Full-time employee</td>\n",
       "      <td>Unlimited contract</td>\n",
       "      <td>English</td>\n",
       "      <td>101-1000</td>\n",
       "      <td>Product</td>\n",
       "      <td>No</td>\n",
       "    </tr>\n",
       "    <tr>\n",
       "      <th>2</th>\n",
       "      <td>29.0</td>\n",
       "      <td>Male</td>\n",
       "      <td>Berlin</td>\n",
       "      <td>12.0</td>\n",
       "      <td>Lead</td>\n",
       "      <td>Javascript / Typescript</td>\n",
       "      <td>Javascript / Typescript, Docker</td>\n",
       "      <td>120000</td>\n",
       "      <td>120000</td>\n",
       "      <td>100000.0</td>\n",
       "      <td>100000</td>\n",
       "      <td>30</td>\n",
       "      <td>Self-employed (freelancer)</td>\n",
       "      <td>Temporary contract</td>\n",
       "      <td>English</td>\n",
       "      <td>101-1000</td>\n",
       "      <td>Product</td>\n",
       "      <td>Yes</td>\n",
       "    </tr>\n",
       "    <tr>\n",
       "      <th>3</th>\n",
       "      <td>28.0</td>\n",
       "      <td>Male</td>\n",
       "      <td>Berlin</td>\n",
       "      <td>4.0</td>\n",
       "      <td>Junior</td>\n",
       "      <td>Javascript</td>\n",
       "      <td>NaN</td>\n",
       "      <td>54000</td>\n",
       "      <td>NaN</td>\n",
       "      <td>NaN</td>\n",
       "      <td>NaN</td>\n",
       "      <td>24</td>\n",
       "      <td>Full-time employee</td>\n",
       "      <td>Unlimited contract</td>\n",
       "      <td>English</td>\n",
       "      <td>51-100</td>\n",
       "      <td>Startup</td>\n",
       "      <td>No</td>\n",
       "    </tr>\n",
       "    <tr>\n",
       "      <th>4</th>\n",
       "      <td>37.0</td>\n",
       "      <td>Male</td>\n",
       "      <td>Berlin</td>\n",
       "      <td>17.0</td>\n",
       "      <td>Senior</td>\n",
       "      <td>C# .NET</td>\n",
       "      <td>.NET, SQL, AWS, Docker</td>\n",
       "      <td>62000</td>\n",
       "      <td>NaN</td>\n",
       "      <td>62000.0</td>\n",
       "      <td>NaN</td>\n",
       "      <td>29</td>\n",
       "      <td>Full-time employee</td>\n",
       "      <td>Unlimited contract</td>\n",
       "      <td>English</td>\n",
       "      <td>101-1000</td>\n",
       "      <td>Product</td>\n",
       "      <td>No</td>\n",
       "    </tr>\n",
       "  </tbody>\n",
       "</table>\n",
       "</div>"
      ],
      "text/plain": [
       "    Age Gender    City  Experience_Y Seniority       Primary_Technology  \\\n",
       "0  26.0   Male  Munich           5.0    Senior               TypeScript   \n",
       "1  26.0   Male  Berlin           7.0    Senior                     Ruby   \n",
       "2  29.0   Male  Berlin          12.0      Lead  Javascript / Typescript   \n",
       "3  28.0   Male  Berlin           4.0    Junior               Javascript   \n",
       "4  37.0   Male  Berlin          17.0    Senior                  C# .NET   \n",
       "\n",
       "            Secondary_Technologies  Bruto_Salary   Bonus  \\\n",
       "0  Kotlin, Javascript / Typescript         80000    5000   \n",
       "1                              NaN         80000     NaN   \n",
       "2  Javascript / Typescript, Docker        120000  120000   \n",
       "3                              NaN         54000     NaN   \n",
       "4           .NET, SQL, AWS, Docker         62000     NaN   \n",
       "\n",
       "   Bruto_Salary_Last_Year Bonus_Last_Year Vacation  \\\n",
       "0                 75000.0           10000       30   \n",
       "1                 82000.0            5000       28   \n",
       "2                100000.0          100000       30   \n",
       "3                     NaN             NaN       24   \n",
       "4                 62000.0             NaN       29   \n",
       "\n",
       "            Employment_Status   Contract_Duration Language Company_Size  \\\n",
       "0          Full-time employee  Unlimited contract  English       51-100   \n",
       "1          Full-time employee  Unlimited contract  English     101-1000   \n",
       "2  Self-employed (freelancer)  Temporary contract  English     101-1000   \n",
       "3          Full-time employee  Unlimited contract  English       51-100   \n",
       "4          Full-time employee  Unlimited contract  English     101-1000   \n",
       "\n",
       "  Company_Type Lost_Job  \n",
       "0      Product       No  \n",
       "1      Product       No  \n",
       "2      Product      Yes  \n",
       "3      Startup       No  \n",
       "4      Product       No  "
      ]
     },
     "execution_count": 173,
     "metadata": {},
     "output_type": "execute_result"
    }
   ],
   "source": [
    "X.head()"
   ]
  },
  {
   "cell_type": "code",
   "execution_count": 174,
   "id": "360b5178",
   "metadata": {},
   "outputs": [
    {
     "data": {
      "text/plain": [
       "0     80000\n",
       "1     80000\n",
       "2    120000\n",
       "3     54000\n",
       "4     62000\n",
       "Name: Bruto_Salary, dtype: int32"
      ]
     },
     "execution_count": 174,
     "metadata": {},
     "output_type": "execute_result"
    }
   ],
   "source": [
    "Y.head()"
   ]
  },
  {
   "cell_type": "code",
   "execution_count": 190,
   "id": "929c4072",
   "metadata": {},
   "outputs": [],
   "source": [
    "#Splitting the data into test data and training data\n",
    "\n",
    "from sklearn.model_selection import train_test_split\n",
    "\n",
    "X_train, X_test, Y_train, Y_test = train_test_split(X, Y, test_size = 0.3, random_state = 0)"
   ]
  },
  {
   "cell_type": "code",
   "execution_count": 215,
   "id": "6df695a1",
   "metadata": {},
   "outputs": [],
   "source": [
    "import pandas as pd\n",
    "import numpy as np\n",
    "from sklearn.preprocessing import LabelEncoder, MinMaxScaler\n",
    "\n",
    "# Your categorical features\n",
    "categorical = ['Age', 'Gender', 'City', 'Seniority', 'Company_Type', 'Employment_Status', 'Experience_Y']\n",
    "\n",
    "# Assuming you have X_train and X_test DataFrames\n",
    "X_train = X_train.fillna('NA')\n",
    "X_test = X_test.fillna('NA')\n",
    "\n",
    "# Convert categorical features using LabelEncoder\n",
    "label_encoders = {}  # To store label encoders for each feature\n",
    "\n",
    "for feature in categorical:\n",
    "    le = LabelEncoder()\n",
    "    combined_data = pd.concat([X_train[feature], X_test[feature]])\n",
    "    le.fit(combined_data)\n",
    "    \n",
    "    label_encoders[feature] = le\n",
    "    \n",
    "    X_train[feature] = le.transform(X_train[feature])\n",
    "    X_test[feature] = le.transform(X_test[feature])\n",
    "\n",
    "# Handle 'NA' values by replacing them with a unique value\n",
    "X_train_numeric = X_train.apply(pd.to_numeric, errors='coerce')\n",
    "X_test_numeric = X_test.apply(pd.to_numeric, errors='coerce')\n",
    "\n",
    "X_train_numeric.fillna(-999, inplace=True)\n",
    "X_test_numeric.fillna(-999, inplace=True)\n"
   ]
  },
  {
   "cell_type": "code",
   "execution_count": 217,
   "id": "76af066a",
   "metadata": {},
   "outputs": [],
   "source": [
    "# Scale the numeric data using MinMaxScaler\n",
    "scaler = MinMaxScaler()\n",
    "X_train_scaled = scaler.fit_transform(X_train_numeric)\n",
    "X_test_scaled = scaler.transform(X_test_numeric)\n",
    "\n",
    "# Convert the scaled features back to original categories\n",
    "for feature in categorical:\n",
    "    le = label_encoders[feature]\n",
    "    \n",
    "    # Round scaled values to the nearest integer before inverse transforming\n",
    "    X_train_scaled[:, X_train.columns.get_loc(feature)] = np.round(X_train_scaled[:, X_train.columns.get_loc(feature)])\n",
    "    X_test_scaled[:, X_test.columns.get_loc(feature)] = np.round(X_test_scaled[:, X_test.columns.get_loc(feature)])\n",
    "    \n",
    "    X_train_scaled[:, X_train.columns.get_loc(feature)] = le.inverse_transform(X_train_scaled[:, X_train.columns.get_loc(feature)].astype(int))\n",
    "    X_test_scaled[:, X_test.columns.get_loc(feature)] = le.inverse_transform(X_test_scaled[:, X_test.columns.get_loc(feature)].astype(int))\n"
   ]
  },
  {
   "cell_type": "code",
   "execution_count": 219,
   "id": "17b27c10",
   "metadata": {},
   "outputs": [
    {
     "name": "stdout",
     "output_type": "stream",
     "text": [
      "Random Forest Training Accuracy: 99.88\n"
     ]
    }
   ],
   "source": [
    "random_forest = RandomForestClassifier(n_estimators=100, random_state=42)\n",
    "random_forest.fit(X_train_scaled, Y_train)\n",
    "\n",
    "# Predict on the test set\n",
    "Y_prediction = random_forest.predict(X_test_scaled)\n",
    "\n",
    "# Calculate accuracy on the training set\n",
    "acc_random_forest = round(random_forest.score(X_train_scaled, Y_train) * 100, 2)\n",
    "print(\"Random Forest Training Accuracy:\", acc_random_forest)"
   ]
  },
  {
   "cell_type": "code",
   "execution_count": 220,
   "id": "8f3e77cb",
   "metadata": {},
   "outputs": [
    {
     "name": "stdout",
     "output_type": "stream",
     "text": [
      "Logistic Regression Training Accuracy: 11.68\n"
     ]
    },
    {
     "name": "stderr",
     "output_type": "stream",
     "text": [
      "c:\\Python311\\Lib\\site-packages\\sklearn\\linear_model\\_logistic.py:458: ConvergenceWarning: lbfgs failed to converge (status=1):\n",
      "STOP: TOTAL NO. of ITERATIONS REACHED LIMIT.\n",
      "\n",
      "Increase the number of iterations (max_iter) or scale the data as shown in:\n",
      "    https://scikit-learn.org/stable/modules/preprocessing.html\n",
      "Please also refer to the documentation for alternative solver options:\n",
      "    https://scikit-learn.org/stable/modules/linear_model.html#logistic-regression\n",
      "  n_iter_i = _check_optimize_result(\n"
     ]
    }
   ],
   "source": [
    "# Initialize and train the Logistic Regression model\n",
    "logreg = LogisticRegression()\n",
    "logreg.fit(X_train_scaled, Y_train)\n",
    "\n",
    "# Predict on the test set\n",
    "Y_pred = logreg.predict(X_test_scaled)\n",
    "\n",
    "# Calculate accuracy on the training set\n",
    "acc_log = round(logreg.score(X_train_scaled, Y_train) * 100, 2)\n",
    "print(\"Logistic Regression Training Accuracy:\", acc_log)"
   ]
  },
  {
   "cell_type": "code",
   "execution_count": 221,
   "id": "96bed0bd",
   "metadata": {},
   "outputs": [
    {
     "name": "stdout",
     "output_type": "stream",
     "text": [
      "KNN Training Accuracy: 39.08\n"
     ]
    }
   ],
   "source": [
    "# Initialize and train the KNN model\n",
    "knn = KNeighborsClassifier(n_neighbors=3)\n",
    "knn.fit(X_train_scaled, Y_train)\n",
    "\n",
    "# Predict on the test set\n",
    "Y_pred = knn.predict(X_test_scaled)\n",
    "\n",
    "# Calculate accuracy on the training set\n",
    "acc_knn = round(knn.score(X_train_scaled, Y_train) * 100, 2)\n",
    "print(\"KNN Training Accuracy:\", acc_knn)\n"
   ]
  },
  {
   "cell_type": "code",
   "execution_count": 222,
   "id": "13b76710",
   "metadata": {},
   "outputs": [
    {
     "name": "stdout",
     "output_type": "stream",
     "text": [
      "Gaussian Naive Bayes Training Accuracy: 17.69\n"
     ]
    }
   ],
   "source": [
    "# Initialize and train the Gaussian Naive Bayes model\n",
    "gaussian = GaussianNB()\n",
    "gaussian.fit(X_train_scaled, Y_train)\n",
    "\n",
    "# Predict on the test set\n",
    "Y_pred = gaussian.predict(X_test_scaled)\n",
    "\n",
    "# Calculate accuracy on the training set\n",
    "acc_gaussian = round(gaussian.score(X_train_scaled, Y_train) * 100, 2)\n",
    "print(\"Gaussian Naive Bayes Training Accuracy:\", acc_gaussian)"
   ]
  },
  {
   "cell_type": "code",
   "execution_count": 223,
   "id": "b8078977",
   "metadata": {},
   "outputs": [
    {
     "name": "stdout",
     "output_type": "stream",
     "text": [
      "Linear SVM Training Accuracy: 15.38\n"
     ]
    }
   ],
   "source": [
    "# Initialize and train the Linear SVM model\n",
    "linear_svc = LinearSVC()\n",
    "linear_svc.fit(X_train_scaled, Y_train)\n",
    "\n",
    "# Predict on the test set\n",
    "Y_pred = linear_svc.predict(X_test_scaled)\n",
    "\n",
    "# Calculate accuracy on the training set\n",
    "acc_linear_svc = round(linear_svc.score(X_train_scaled, Y_train) * 100, 2)\n",
    "print(\"Linear SVM Training Accuracy:\", acc_linear_svc)"
   ]
  },
  {
   "cell_type": "code",
   "execution_count": 207,
   "id": "fed039a1",
   "metadata": {},
   "outputs": [
    {
     "name": "stdout",
     "output_type": "stream",
     "text": [
      "Decision Tree Training Accuracy: 99.88\n"
     ]
    }
   ],
   "source": [
    "# Initialize and train the Decision Tree model\n",
    "decision_tree = DecisionTreeClassifier()\n",
    "decision_tree.fit(X_train_scaled, Y_train)\n",
    "\n",
    "# Predict on the test set\n",
    "Y_pred = decision_tree.predict(X_test_scaled)\n",
    "\n",
    "# Calculate accuracy on the training set\n",
    "acc_decision_tree = round(decision_tree.score(X_train_scaled, Y_train) * 100, 2)\n",
    "print(\"Decision Tree Training Accuracy:\", acc_decision_tree)"
   ]
  },
  {
   "cell_type": "code",
   "execution_count": 208,
   "id": "91353077",
   "metadata": {},
   "outputs": [
    {
     "data": {
      "text/html": [
       "<div>\n",
       "<style scoped>\n",
       "    .dataframe tbody tr th:only-of-type {\n",
       "        vertical-align: middle;\n",
       "    }\n",
       "\n",
       "    .dataframe tbody tr th {\n",
       "        vertical-align: top;\n",
       "    }\n",
       "\n",
       "    .dataframe thead th {\n",
       "        text-align: right;\n",
       "    }\n",
       "</style>\n",
       "<table border=\"1\" class=\"dataframe\">\n",
       "  <thead>\n",
       "    <tr style=\"text-align: right;\">\n",
       "      <th></th>\n",
       "      <th>Model</th>\n",
       "    </tr>\n",
       "    <tr>\n",
       "      <th>Score</th>\n",
       "      <th></th>\n",
       "    </tr>\n",
       "  </thead>\n",
       "  <tbody>\n",
       "    <tr>\n",
       "      <th>99.88</th>\n",
       "      <td>Random Forest</td>\n",
       "    </tr>\n",
       "    <tr>\n",
       "      <th>99.88</th>\n",
       "      <td>Decision Tree</td>\n",
       "    </tr>\n",
       "    <tr>\n",
       "      <th>39.08</th>\n",
       "      <td>KNN</td>\n",
       "    </tr>\n",
       "    <tr>\n",
       "      <th>17.69</th>\n",
       "      <td>Naive Bayes</td>\n",
       "    </tr>\n",
       "    <tr>\n",
       "      <th>15.38</th>\n",
       "      <td>Support Vector Machines</td>\n",
       "    </tr>\n",
       "    <tr>\n",
       "      <th>11.68</th>\n",
       "      <td>Logistic Regression</td>\n",
       "    </tr>\n",
       "  </tbody>\n",
       "</table>\n",
       "</div>"
      ],
      "text/plain": [
       "                         Model\n",
       "Score                         \n",
       "99.88            Random Forest\n",
       "99.88            Decision Tree\n",
       "39.08                      KNN\n",
       "17.69              Naive Bayes\n",
       "15.38  Support Vector Machines\n",
       "11.68      Logistic Regression"
      ]
     },
     "execution_count": 208,
     "metadata": {},
     "output_type": "execute_result"
    }
   ],
   "source": [
    "#Plotting the accuracy of the used algorithms to find the best fit\n",
    "\n",
    "results = pd.DataFrame({\n",
    "    'Model': ['Support Vector Machines', 'KNN', 'Logistic Regression', 'Random Forest', 'Naive Bayes', 'Decision Tree'],\n",
    "    'Score': [acc_linear_svc, acc_knn, acc_log, acc_random_forest, acc_gaussian, acc_decision_tree]})\n",
    "result_df = results.sort_values(by='Score', ascending=False)\n",
    "result_df = result_df.set_index('Score')\n",
    "result_df.head(7)"
   ]
  },
  {
   "cell_type": "code",
   "execution_count": 209,
   "id": "bbca0a50",
   "metadata": {},
   "outputs": [
    {
     "data": {
      "text/html": [
       "<div>\n",
       "<style scoped>\n",
       "    .dataframe tbody tr th:only-of-type {\n",
       "        vertical-align: middle;\n",
       "    }\n",
       "\n",
       "    .dataframe tbody tr th {\n",
       "        vertical-align: top;\n",
       "    }\n",
       "\n",
       "    .dataframe thead th {\n",
       "        text-align: right;\n",
       "    }\n",
       "</style>\n",
       "<table border=\"1\" class=\"dataframe\">\n",
       "  <thead>\n",
       "    <tr style=\"text-align: right;\">\n",
       "      <th></th>\n",
       "      <th>importance</th>\n",
       "    </tr>\n",
       "    <tr>\n",
       "      <th>feature</th>\n",
       "      <th></th>\n",
       "    </tr>\n",
       "  </thead>\n",
       "  <tbody>\n",
       "    <tr>\n",
       "      <th>Bruto_Salary</th>\n",
       "      <td>0.388</td>\n",
       "    </tr>\n",
       "    <tr>\n",
       "      <th>Bruto_Salary_Last_Year</th>\n",
       "      <td>0.145</td>\n",
       "    </tr>\n",
       "    <tr>\n",
       "      <th>Bonus</th>\n",
       "      <td>0.116</td>\n",
       "    </tr>\n",
       "    <tr>\n",
       "      <th>Vacation</th>\n",
       "      <td>0.108</td>\n",
       "    </tr>\n",
       "    <tr>\n",
       "      <th>Bonus_Last_Year</th>\n",
       "      <td>0.083</td>\n",
       "    </tr>\n",
       "    <tr>\n",
       "      <th>City</th>\n",
       "      <td>0.037</td>\n",
       "    </tr>\n",
       "    <tr>\n",
       "      <th>Seniority</th>\n",
       "      <td>0.026</td>\n",
       "    </tr>\n",
       "    <tr>\n",
       "      <th>Company_Type</th>\n",
       "      <td>0.024</td>\n",
       "    </tr>\n",
       "    <tr>\n",
       "      <th>Experience_Y</th>\n",
       "      <td>0.021</td>\n",
       "    </tr>\n",
       "    <tr>\n",
       "      <th>Gender</th>\n",
       "      <td>0.021</td>\n",
       "    </tr>\n",
       "    <tr>\n",
       "      <th>Age</th>\n",
       "      <td>0.019</td>\n",
       "    </tr>\n",
       "    <tr>\n",
       "      <th>Employment_Status</th>\n",
       "      <td>0.011</td>\n",
       "    </tr>\n",
       "    <tr>\n",
       "      <th>Secondary_Technologies</th>\n",
       "      <td>0.000</td>\n",
       "    </tr>\n",
       "    <tr>\n",
       "      <th>Contract_Duration</th>\n",
       "      <td>0.000</td>\n",
       "    </tr>\n",
       "    <tr>\n",
       "      <th>Language</th>\n",
       "      <td>0.000</td>\n",
       "    </tr>\n",
       "  </tbody>\n",
       "</table>\n",
       "</div>"
      ],
      "text/plain": [
       "                        importance\n",
       "feature                           \n",
       "Bruto_Salary                 0.388\n",
       "Bruto_Salary_Last_Year       0.145\n",
       "Bonus                        0.116\n",
       "Vacation                     0.108\n",
       "Bonus_Last_Year              0.083\n",
       "City                         0.037\n",
       "Seniority                    0.026\n",
       "Company_Type                 0.024\n",
       "Experience_Y                 0.021\n",
       "Gender                       0.021\n",
       "Age                          0.019\n",
       "Employment_Status            0.011\n",
       "Secondary_Technologies       0.000\n",
       "Contract_Duration            0.000\n",
       "Language                     0.000"
      ]
     },
     "execution_count": 209,
     "metadata": {},
     "output_type": "execute_result"
    }
   ],
   "source": [
    "#Finding significance of each feature in t5he best fit model\n",
    "\n",
    "importances = pd.DataFrame({'feature':X_train.columns,'importance':np.round(random_forest.feature_importances_,3)})\n",
    "importances = importances.sort_values('importance',ascending=False).set_index('feature')\n",
    "importances.head(15)"
   ]
  },
  {
   "cell_type": "code",
   "execution_count": 210,
   "id": "a7f52a65",
   "metadata": {},
   "outputs": [
    {
     "data": {
      "text/plain": [
       "<Axes: xlabel='feature'>"
      ]
     },
     "execution_count": 210,
     "metadata": {},
     "output_type": "execute_result"
    },
    {
     "data": {
      "image/png": "[encoded data removed]",
      "text/plain": [
       "<Figure size 1200x1200 with 1 Axes>"
      ]
     },
     "metadata": {},
     "output_type": "display_data"
    }
   ],
   "source": [
    "#Plotting the significance of each feautre\n",
    "\n",
    "importances.plot.bar()"
   ]
  },
  {
   "cell_type": "code",
   "execution_count": 211,
   "id": "715e103e",
   "metadata": {},
   "outputs": [],
   "source": [
    "#Since they hardly have any significance, can drop these columns to avoid overfitting\n",
    "\n",
    "df  = df.drop(\"Secondary_Technologies\", axis=1)\n",
    "df  = df.drop(\"Contract_Duration\", axis=1)\n",
    "df  = df.drop(\"Language\", axis=1)\n",
    "df  = df.drop(\"Company_Size\", axis=1)\n",
    "df  = df.drop(\"Primary_Technology\", axis=1)\n",
    "df  = df.drop(\"Lost_Job\", axis=1)"
   ]
  }
 ],
 "metadata": {
  "kernelspec": {
   "display_name": "Python 3 (ipykernel)",
   "language": "python",
   "name": "python3"
  },
  "language_info": {
   "codemirror_mode": {
    "name": "ipython",
    "version": 3
   },
   "file_extension": ".py",
   "mimetype": "text/x-python",
   "name": "python",
   "nbconvert_exporter": "python",
   "pygments_lexer": "ipython3",
   "version": "3.11.0"
  }
 },
 "nbformat": 4,
 "nbformat_minor": 5
}
